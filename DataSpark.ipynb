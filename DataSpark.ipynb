{
 "cells": [
  {
   "cell_type": "code",
   "execution_count": 1,
   "id": "b632fd4d-249d-48d5-8fa1-6f679e1cf756",
   "metadata": {},
   "outputs": [],
   "source": [
    "import pandas as pd"
   ]
  },
  {
   "cell_type": "code",
   "execution_count": 2,
   "id": "2b56b003-a1ed-4809-98c3-c8b402828f3f",
   "metadata": {},
   "outputs": [],
   "source": [
    "df_customers=pd.read_csv(\"C:/Users/Lenovo/Downloads/Customers.csv\",encoding=\"latin-1\")"
   ]
  },
  {
   "cell_type": "code",
   "execution_count": 3,
   "id": "eab6ca97-2a16-4f03-8d9c-6f0cfc18a24a",
   "metadata": {},
   "outputs": [
    {
     "data": {
      "text/html": [
       "<div>\n",
       "<style scoped>\n",
       "    .dataframe tbody tr th:only-of-type {\n",
       "        vertical-align: middle;\n",
       "    }\n",
       "\n",
       "    .dataframe tbody tr th {\n",
       "        vertical-align: top;\n",
       "    }\n",
       "\n",
       "    .dataframe thead th {\n",
       "        text-align: right;\n",
       "    }\n",
       "</style>\n",
       "<table border=\"1\" class=\"dataframe\">\n",
       "  <thead>\n",
       "    <tr style=\"text-align: right;\">\n",
       "      <th></th>\n",
       "      <th>CustomerKey</th>\n",
       "      <th>Gender</th>\n",
       "      <th>Name</th>\n",
       "      <th>City</th>\n",
       "      <th>State Code</th>\n",
       "      <th>State</th>\n",
       "      <th>Zip Code</th>\n",
       "      <th>Country</th>\n",
       "      <th>Continent</th>\n",
       "      <th>Birthday</th>\n",
       "    </tr>\n",
       "  </thead>\n",
       "  <tbody>\n",
       "    <tr>\n",
       "      <th>0</th>\n",
       "      <td>301</td>\n",
       "      <td>Female</td>\n",
       "      <td>Lilly Harding</td>\n",
       "      <td>WANDEARAH EAST</td>\n",
       "      <td>SA</td>\n",
       "      <td>South Australia</td>\n",
       "      <td>5523</td>\n",
       "      <td>Australia</td>\n",
       "      <td>Australia</td>\n",
       "      <td>7/3/1939</td>\n",
       "    </tr>\n",
       "    <tr>\n",
       "      <th>1</th>\n",
       "      <td>325</td>\n",
       "      <td>Female</td>\n",
       "      <td>Madison Hull</td>\n",
       "      <td>MOUNT BUDD</td>\n",
       "      <td>WA</td>\n",
       "      <td>Western Australia</td>\n",
       "      <td>6522</td>\n",
       "      <td>Australia</td>\n",
       "      <td>Australia</td>\n",
       "      <td>9/27/1979</td>\n",
       "    </tr>\n",
       "    <tr>\n",
       "      <th>2</th>\n",
       "      <td>554</td>\n",
       "      <td>Female</td>\n",
       "      <td>Claire Ferres</td>\n",
       "      <td>WINJALLOK</td>\n",
       "      <td>VIC</td>\n",
       "      <td>Victoria</td>\n",
       "      <td>3380</td>\n",
       "      <td>Australia</td>\n",
       "      <td>Australia</td>\n",
       "      <td>5/26/1947</td>\n",
       "    </tr>\n",
       "    <tr>\n",
       "      <th>3</th>\n",
       "      <td>786</td>\n",
       "      <td>Male</td>\n",
       "      <td>Jai Poltpalingada</td>\n",
       "      <td>MIDDLE RIVER</td>\n",
       "      <td>SA</td>\n",
       "      <td>South Australia</td>\n",
       "      <td>5223</td>\n",
       "      <td>Australia</td>\n",
       "      <td>Australia</td>\n",
       "      <td>9/17/1957</td>\n",
       "    </tr>\n",
       "    <tr>\n",
       "      <th>4</th>\n",
       "      <td>1042</td>\n",
       "      <td>Male</td>\n",
       "      <td>Aidan Pankhurst</td>\n",
       "      <td>TAWONGA SOUTH</td>\n",
       "      <td>VIC</td>\n",
       "      <td>Victoria</td>\n",
       "      <td>3698</td>\n",
       "      <td>Australia</td>\n",
       "      <td>Australia</td>\n",
       "      <td>11/19/1965</td>\n",
       "    </tr>\n",
       "  </tbody>\n",
       "</table>\n",
       "</div>"
      ],
      "text/plain": [
       "   CustomerKey  Gender               Name            City State Code  \\\n",
       "0          301  Female      Lilly Harding  WANDEARAH EAST         SA   \n",
       "1          325  Female       Madison Hull      MOUNT BUDD         WA   \n",
       "2          554  Female      Claire Ferres       WINJALLOK        VIC   \n",
       "3          786    Male  Jai Poltpalingada    MIDDLE RIVER         SA   \n",
       "4         1042    Male    Aidan Pankhurst   TAWONGA SOUTH        VIC   \n",
       "\n",
       "               State Zip Code    Country  Continent    Birthday  \n",
       "0    South Australia     5523  Australia  Australia    7/3/1939  \n",
       "1  Western Australia     6522  Australia  Australia   9/27/1979  \n",
       "2           Victoria     3380  Australia  Australia   5/26/1947  \n",
       "3    South Australia     5223  Australia  Australia   9/17/1957  \n",
       "4           Victoria     3698  Australia  Australia  11/19/1965  "
      ]
     },
     "execution_count": 3,
     "metadata": {},
     "output_type": "execute_result"
    }
   ],
   "source": [
    "df_customers.head()"
   ]
  },
  {
   "cell_type": "code",
   "execution_count": 4,
   "id": "962acb8a-9abf-4a6c-8f62-5cc1f5f686cd",
   "metadata": {},
   "outputs": [
    {
     "data": {
      "text/plain": [
       "CustomerKey     0\n",
       "Gender          0\n",
       "Name            0\n",
       "City            0\n",
       "State Code     10\n",
       "State           0\n",
       "Zip Code        0\n",
       "Country         0\n",
       "Continent       0\n",
       "Birthday        0\n",
       "dtype: int64"
      ]
     },
     "execution_count": 4,
     "metadata": {},
     "output_type": "execute_result"
    }
   ],
   "source": [
    "df_customers.isnull().sum()"
   ]
  },
  {
   "cell_type": "code",
   "execution_count": 8,
   "id": "3454ec06-cf09-495a-8bf4-869d91bf96f6",
   "metadata": {},
   "outputs": [],
   "source": [
    "def null_value_imputer(df_customers):\n",
    "    for i in df_customers.columns:\n",
    "        # Drop columns with 80% or more missing values\n",
    "        if (df_customers[i].isnull().sum() / len(df_customers)) * 100 >= 80:\n",
    "            df_customers.drop(i, axis=1, inplace=True)\n",
    "        # Impute missing values in numeric columns\n",
    "        elif df_customers[i].dtype in ['int64', 'float64']:\n",
    "            # Check the skewness of the column\n",
    "            if -0.4 < df_customers[i].skew() < 0.4:\n",
    "                # If skewness is low, fill missing values with the mean\n",
    "                df_customers[i].fillna(df_customers[i].mean(), inplace=True)\n",
    "            else:\n",
    "                # If skewness is high, fill missing values with the median\n",
    "                df_customers[i].fillna(df_customers[i].median(), inplace=True)\n",
    "        else:\n",
    "            # For categorical columns, fill missing values with the mode\n",
    "            df_customers[i].fillna(df_customers[i].mode()[0], inplace=True)\n",
    "    \n",
    "    # Print the number of null values after imputation\n",
    "    print(\"Null Values after imputation:\\n\", df_customers.isnull().sum())\n",
    "    print(df_customers.isnull().sum())"
   ]
  },
  {
   "cell_type": "code",
   "execution_count": 9,
   "id": "95c862f0-00d2-4ee5-9e37-ecdef592478c",
   "metadata": {},
   "outputs": [
    {
     "name": "stdout",
     "output_type": "stream",
     "text": [
      "Null Values after imputation:\n",
      " CustomerKey    0\n",
      "Gender         0\n",
      "Name           0\n",
      "City           0\n",
      "State Code     0\n",
      "State          0\n",
      "Zip Code       0\n",
      "Country        0\n",
      "Continent      0\n",
      "Birthday       0\n",
      "dtype: int64\n",
      "CustomerKey    0\n",
      "Gender         0\n",
      "Name           0\n",
      "City           0\n",
      "State Code     0\n",
      "State          0\n",
      "Zip Code       0\n",
      "Country        0\n",
      "Continent      0\n",
      "Birthday       0\n",
      "dtype: int64\n"
     ]
    }
   ],
   "source": [
    "null_value_imputer(df_customers)"
   ]
  },
  {
   "cell_type": "code",
   "execution_count": 10,
   "id": "16225d36-1dae-482a-97b9-6421a293f062",
   "metadata": {},
   "outputs": [
    {
     "data": {
      "text/plain": [
       "CustomerKey    0\n",
       "Gender         0\n",
       "Name           0\n",
       "City           0\n",
       "State Code     0\n",
       "State          0\n",
       "Zip Code       0\n",
       "Country        0\n",
       "Continent      0\n",
       "Birthday       0\n",
       "dtype: int64"
      ]
     },
     "execution_count": 10,
     "metadata": {},
     "output_type": "execute_result"
    }
   ],
   "source": [
    "df_customers.isnull().sum()"
   ]
  },
  {
   "cell_type": "code",
   "execution_count": 11,
   "id": "b94ae413-2cc8-43c9-9cb4-14fb2c70c6c6",
   "metadata": {},
   "outputs": [
    {
     "data": {
      "text/plain": [
       "0"
      ]
     },
     "execution_count": 11,
     "metadata": {},
     "output_type": "execute_result"
    }
   ],
   "source": [
    "df_customers.duplicated().sum()"
   ]
  },
  {
   "cell_type": "code",
   "execution_count": 12,
   "id": "bda71eb6-d04b-4f5e-97f0-dad30efdf6ba",
   "metadata": {},
   "outputs": [],
   "source": [
    "df_customers.rename(columns={'State Code': 'State_Code'}, inplace=True)\n",
    "df_customers.rename(columns={'Zip Code': 'Zip_Code'}, inplace=True)\n",
    "df_customers.rename(columns={'CustomerKey':'Customer_Key'},inplace=True)"
   ]
  },
  {
   "cell_type": "code",
   "execution_count": 13,
   "id": "dd62edec-72aa-41d5-adf6-e5b391452bde",
   "metadata": {},
   "outputs": [
    {
     "data": {
      "text/html": [
       "<div>\n",
       "<style scoped>\n",
       "    .dataframe tbody tr th:only-of-type {\n",
       "        vertical-align: middle;\n",
       "    }\n",
       "\n",
       "    .dataframe tbody tr th {\n",
       "        vertical-align: top;\n",
       "    }\n",
       "\n",
       "    .dataframe thead th {\n",
       "        text-align: right;\n",
       "    }\n",
       "</style>\n",
       "<table border=\"1\" class=\"dataframe\">\n",
       "  <thead>\n",
       "    <tr style=\"text-align: right;\">\n",
       "      <th></th>\n",
       "      <th>Customer_Key</th>\n",
       "      <th>Gender</th>\n",
       "      <th>Name</th>\n",
       "      <th>City</th>\n",
       "      <th>State_Code</th>\n",
       "      <th>State</th>\n",
       "      <th>Zip_Code</th>\n",
       "      <th>Country</th>\n",
       "      <th>Continent</th>\n",
       "      <th>Birthday</th>\n",
       "    </tr>\n",
       "  </thead>\n",
       "  <tbody>\n",
       "    <tr>\n",
       "      <th>0</th>\n",
       "      <td>301</td>\n",
       "      <td>Female</td>\n",
       "      <td>Lilly Harding</td>\n",
       "      <td>WANDEARAH EAST</td>\n",
       "      <td>SA</td>\n",
       "      <td>South Australia</td>\n",
       "      <td>5523</td>\n",
       "      <td>Australia</td>\n",
       "      <td>Australia</td>\n",
       "      <td>7/3/1939</td>\n",
       "    </tr>\n",
       "    <tr>\n",
       "      <th>1</th>\n",
       "      <td>325</td>\n",
       "      <td>Female</td>\n",
       "      <td>Madison Hull</td>\n",
       "      <td>MOUNT BUDD</td>\n",
       "      <td>WA</td>\n",
       "      <td>Western Australia</td>\n",
       "      <td>6522</td>\n",
       "      <td>Australia</td>\n",
       "      <td>Australia</td>\n",
       "      <td>9/27/1979</td>\n",
       "    </tr>\n",
       "    <tr>\n",
       "      <th>2</th>\n",
       "      <td>554</td>\n",
       "      <td>Female</td>\n",
       "      <td>Claire Ferres</td>\n",
       "      <td>WINJALLOK</td>\n",
       "      <td>VIC</td>\n",
       "      <td>Victoria</td>\n",
       "      <td>3380</td>\n",
       "      <td>Australia</td>\n",
       "      <td>Australia</td>\n",
       "      <td>5/26/1947</td>\n",
       "    </tr>\n",
       "    <tr>\n",
       "      <th>3</th>\n",
       "      <td>786</td>\n",
       "      <td>Male</td>\n",
       "      <td>Jai Poltpalingada</td>\n",
       "      <td>MIDDLE RIVER</td>\n",
       "      <td>SA</td>\n",
       "      <td>South Australia</td>\n",
       "      <td>5223</td>\n",
       "      <td>Australia</td>\n",
       "      <td>Australia</td>\n",
       "      <td>9/17/1957</td>\n",
       "    </tr>\n",
       "    <tr>\n",
       "      <th>4</th>\n",
       "      <td>1042</td>\n",
       "      <td>Male</td>\n",
       "      <td>Aidan Pankhurst</td>\n",
       "      <td>TAWONGA SOUTH</td>\n",
       "      <td>VIC</td>\n",
       "      <td>Victoria</td>\n",
       "      <td>3698</td>\n",
       "      <td>Australia</td>\n",
       "      <td>Australia</td>\n",
       "      <td>11/19/1965</td>\n",
       "    </tr>\n",
       "  </tbody>\n",
       "</table>\n",
       "</div>"
      ],
      "text/plain": [
       "   Customer_Key  Gender               Name            City State_Code  \\\n",
       "0           301  Female      Lilly Harding  WANDEARAH EAST         SA   \n",
       "1           325  Female       Madison Hull      MOUNT BUDD         WA   \n",
       "2           554  Female      Claire Ferres       WINJALLOK        VIC   \n",
       "3           786    Male  Jai Poltpalingada    MIDDLE RIVER         SA   \n",
       "4          1042    Male    Aidan Pankhurst   TAWONGA SOUTH        VIC   \n",
       "\n",
       "               State Zip_Code    Country  Continent    Birthday  \n",
       "0    South Australia     5523  Australia  Australia    7/3/1939  \n",
       "1  Western Australia     6522  Australia  Australia   9/27/1979  \n",
       "2           Victoria     3380  Australia  Australia   5/26/1947  \n",
       "3    South Australia     5223  Australia  Australia   9/17/1957  \n",
       "4           Victoria     3698  Australia  Australia  11/19/1965  "
      ]
     },
     "execution_count": 13,
     "metadata": {},
     "output_type": "execute_result"
    }
   ],
   "source": [
    "df_customers.head()"
   ]
  },
  {
   "cell_type": "code",
   "execution_count": 14,
   "id": "b8355261-b8d1-4eec-9f74-7157037f9427",
   "metadata": {},
   "outputs": [
    {
     "data": {
      "text/plain": [
       "Customer_Key     int64\n",
       "Gender          object\n",
       "Name            object\n",
       "City            object\n",
       "State_Code      object\n",
       "State           object\n",
       "Zip_Code        object\n",
       "Country         object\n",
       "Continent       object\n",
       "Birthday        object\n",
       "dtype: object"
      ]
     },
     "execution_count": 14,
     "metadata": {},
     "output_type": "execute_result"
    }
   ],
   "source": [
    "df_customers.dtypes"
   ]
  },
  {
   "cell_type": "code",
   "execution_count": 15,
   "id": "106937af-00ce-4e6c-a95f-a9d26561d844",
   "metadata": {},
   "outputs": [],
   "source": [
    "df_customers['Birthday'] = pd.to_datetime(df_customers['Birthday'], errors='coerce')\n",
    "df_customers['Birthday'] = df_customers['Birthday'].dt.strftime('%Y-%m-%d')"
   ]
  },
  {
   "cell_type": "code",
   "execution_count": 16,
   "id": "0a6715e6-efeb-462b-b668-6e7015718fa4",
   "metadata": {},
   "outputs": [
    {
     "data": {
      "text/html": [
       "<div>\n",
       "<style scoped>\n",
       "    .dataframe tbody tr th:only-of-type {\n",
       "        vertical-align: middle;\n",
       "    }\n",
       "\n",
       "    .dataframe tbody tr th {\n",
       "        vertical-align: top;\n",
       "    }\n",
       "\n",
       "    .dataframe thead th {\n",
       "        text-align: right;\n",
       "    }\n",
       "</style>\n",
       "<table border=\"1\" class=\"dataframe\">\n",
       "  <thead>\n",
       "    <tr style=\"text-align: right;\">\n",
       "      <th></th>\n",
       "      <th>Customer_Key</th>\n",
       "      <th>Gender</th>\n",
       "      <th>Name</th>\n",
       "      <th>City</th>\n",
       "      <th>State_Code</th>\n",
       "      <th>State</th>\n",
       "      <th>Zip_Code</th>\n",
       "      <th>Country</th>\n",
       "      <th>Continent</th>\n",
       "      <th>Birthday</th>\n",
       "    </tr>\n",
       "  </thead>\n",
       "  <tbody>\n",
       "    <tr>\n",
       "      <th>0</th>\n",
       "      <td>301</td>\n",
       "      <td>Female</td>\n",
       "      <td>Lilly Harding</td>\n",
       "      <td>WANDEARAH EAST</td>\n",
       "      <td>SA</td>\n",
       "      <td>South Australia</td>\n",
       "      <td>5523</td>\n",
       "      <td>Australia</td>\n",
       "      <td>Australia</td>\n",
       "      <td>1939-07-03</td>\n",
       "    </tr>\n",
       "    <tr>\n",
       "      <th>1</th>\n",
       "      <td>325</td>\n",
       "      <td>Female</td>\n",
       "      <td>Madison Hull</td>\n",
       "      <td>MOUNT BUDD</td>\n",
       "      <td>WA</td>\n",
       "      <td>Western Australia</td>\n",
       "      <td>6522</td>\n",
       "      <td>Australia</td>\n",
       "      <td>Australia</td>\n",
       "      <td>1979-09-27</td>\n",
       "    </tr>\n",
       "    <tr>\n",
       "      <th>2</th>\n",
       "      <td>554</td>\n",
       "      <td>Female</td>\n",
       "      <td>Claire Ferres</td>\n",
       "      <td>WINJALLOK</td>\n",
       "      <td>VIC</td>\n",
       "      <td>Victoria</td>\n",
       "      <td>3380</td>\n",
       "      <td>Australia</td>\n",
       "      <td>Australia</td>\n",
       "      <td>1947-05-26</td>\n",
       "    </tr>\n",
       "    <tr>\n",
       "      <th>3</th>\n",
       "      <td>786</td>\n",
       "      <td>Male</td>\n",
       "      <td>Jai Poltpalingada</td>\n",
       "      <td>MIDDLE RIVER</td>\n",
       "      <td>SA</td>\n",
       "      <td>South Australia</td>\n",
       "      <td>5223</td>\n",
       "      <td>Australia</td>\n",
       "      <td>Australia</td>\n",
       "      <td>1957-09-17</td>\n",
       "    </tr>\n",
       "    <tr>\n",
       "      <th>4</th>\n",
       "      <td>1042</td>\n",
       "      <td>Male</td>\n",
       "      <td>Aidan Pankhurst</td>\n",
       "      <td>TAWONGA SOUTH</td>\n",
       "      <td>VIC</td>\n",
       "      <td>Victoria</td>\n",
       "      <td>3698</td>\n",
       "      <td>Australia</td>\n",
       "      <td>Australia</td>\n",
       "      <td>1965-11-19</td>\n",
       "    </tr>\n",
       "  </tbody>\n",
       "</table>\n",
       "</div>"
      ],
      "text/plain": [
       "   Customer_Key  Gender               Name            City State_Code  \\\n",
       "0           301  Female      Lilly Harding  WANDEARAH EAST         SA   \n",
       "1           325  Female       Madison Hull      MOUNT BUDD         WA   \n",
       "2           554  Female      Claire Ferres       WINJALLOK        VIC   \n",
       "3           786    Male  Jai Poltpalingada    MIDDLE RIVER         SA   \n",
       "4          1042    Male    Aidan Pankhurst   TAWONGA SOUTH        VIC   \n",
       "\n",
       "               State Zip_Code    Country  Continent    Birthday  \n",
       "0    South Australia     5523  Australia  Australia  1939-07-03  \n",
       "1  Western Australia     6522  Australia  Australia  1979-09-27  \n",
       "2           Victoria     3380  Australia  Australia  1947-05-26  \n",
       "3    South Australia     5223  Australia  Australia  1957-09-17  \n",
       "4           Victoria     3698  Australia  Australia  1965-11-19  "
      ]
     },
     "execution_count": 16,
     "metadata": {},
     "output_type": "execute_result"
    }
   ],
   "source": [
    "df_customers.head()"
   ]
  },
  {
   "cell_type": "code",
   "execution_count": 17,
   "id": "ff91ad4d-7ce6-420d-9417-9c44afdb5d38",
   "metadata": {},
   "outputs": [
    {
     "data": {
      "text/plain": [
       "Customer_Key     int64\n",
       "Gender          object\n",
       "Name            object\n",
       "City            object\n",
       "State_Code      object\n",
       "State           object\n",
       "Zip_Code        object\n",
       "Country         object\n",
       "Continent       object\n",
       "Birthday        object\n",
       "dtype: object"
      ]
     },
     "execution_count": 17,
     "metadata": {},
     "output_type": "execute_result"
    }
   ],
   "source": [
    "df_customers.dtypes"
   ]
  },
  {
   "cell_type": "code",
   "execution_count": 18,
   "id": "fd8a1f47-743f-4f68-b2ba-2590b95d41b5",
   "metadata": {},
   "outputs": [],
   "source": [
    "df_customers.to_csv('customers_data.csv', index=False)"
   ]
  },
  {
   "cell_type": "code",
   "execution_count": 20,
   "id": "b6cfbe3b-0572-4296-8414-5897f09c2087",
   "metadata": {},
   "outputs": [],
   "source": [
    "import pymysql"
   ]
  },
  {
   "cell_type": "code",
   "execution_count": 21,
   "id": "0164ea52-2e90-4601-b677-d7c29557007c",
   "metadata": {},
   "outputs": [],
   "source": [
    "myconnection = pymysql.connect(host='127.0.0.1',user='root',password='root')"
   ]
  },
  {
   "cell_type": "code",
   "execution_count": 22,
   "id": "e8558aba-1e16-4339-be26-73f219b4aa42",
   "metadata": {},
   "outputs": [
    {
     "data": {
      "text/plain": [
       "1"
      ]
     },
     "execution_count": 22,
     "metadata": {},
     "output_type": "execute_result"
    }
   ],
   "source": [
    "myconnection.cursor().execute(\"create database data\")"
   ]
  },
  {
   "cell_type": "code",
   "execution_count": 23,
   "id": "cd8f6e73-b619-4809-9bc5-2bde6cce3109",
   "metadata": {},
   "outputs": [],
   "source": [
    "a=\",\".join(f\"{i} {j}\"\n",
    "for i,j in zip(df_customers.columns,df_customers.dtypes)).replace(\"float64\",\"float\").replace(\"category\",\"text\").replace(\"int64\",\"int\").replace(\"object\",\"text\")"
   ]
  },
  {
   "cell_type": "code",
   "execution_count": 24,
   "id": "bddb0d53-b80b-435a-8bbc-72fded1e4ad5",
   "metadata": {},
   "outputs": [
    {
     "data": {
      "text/plain": [
       "'create table customers_data (Customer_Key int,Gender text,Name text,City text,State_Code text,State text,Zip_Code text,Country text,Continent text,Birthday text)'"
      ]
     },
     "execution_count": 24,
     "metadata": {},
     "output_type": "execute_result"
    }
   ],
   "source": [
    "f\"create table customers_data ({a})\""
   ]
  },
  {
   "cell_type": "code",
   "execution_count": 25,
   "id": "d7a328fb-a0e2-4f71-ba1f-276f7400d21c",
   "metadata": {},
   "outputs": [
    {
     "data": {
      "text/plain": [
       "0"
      ]
     },
     "execution_count": 25,
     "metadata": {},
     "output_type": "execute_result"
    }
   ],
   "source": [
    "myconnection.cursor().execute(f\"create table data.customers_data ({a})\")"
   ]
  },
  {
   "cell_type": "code",
   "execution_count": 26,
   "id": "c2655378-e3bd-4a65-a839-2c19b328f3f0",
   "metadata": {},
   "outputs": [
    {
     "data": {
      "text/plain": [
       "15266"
      ]
     },
     "execution_count": 26,
     "metadata": {},
     "output_type": "execute_result"
    }
   ],
   "source": [
    "len(df_customers)"
   ]
  },
  {
   "cell_type": "code",
   "execution_count": 28,
   "id": "27b54cc0-fe40-4389-a285-e301bd2096ef",
   "metadata": {},
   "outputs": [],
   "source": [
    "sql = \"insert into data.customers_data values\"\n",
    "for i in range(len(df_customers)):\n",
    "    myconnection.cursor().execute(f\"{sql} {tuple(df_customers.iloc[i])}\")\n",
    "    myconnection.commit()"
   ]
  },
  {
   "cell_type": "code",
   "execution_count": 29,
   "id": "7e8916d2-10b4-4f39-839c-9374296c8900",
   "metadata": {},
   "outputs": [
    {
     "data": {
      "text/html": [
       "<div>\n",
       "<style scoped>\n",
       "    .dataframe tbody tr th:only-of-type {\n",
       "        vertical-align: middle;\n",
       "    }\n",
       "\n",
       "    .dataframe tbody tr th {\n",
       "        vertical-align: top;\n",
       "    }\n",
       "\n",
       "    .dataframe thead th {\n",
       "        text-align: right;\n",
       "    }\n",
       "</style>\n",
       "<table border=\"1\" class=\"dataframe\">\n",
       "  <thead>\n",
       "    <tr style=\"text-align: right;\">\n",
       "      <th></th>\n",
       "      <th>Customer_Key</th>\n",
       "      <th>Gender</th>\n",
       "      <th>Name</th>\n",
       "      <th>City</th>\n",
       "      <th>State_Code</th>\n",
       "      <th>State</th>\n",
       "      <th>Zip_Code</th>\n",
       "      <th>Country</th>\n",
       "      <th>Continent</th>\n",
       "      <th>Birthday</th>\n",
       "    </tr>\n",
       "  </thead>\n",
       "  <tbody>\n",
       "    <tr>\n",
       "      <th>0</th>\n",
       "      <td>301</td>\n",
       "      <td>Female</td>\n",
       "      <td>Lilly Harding</td>\n",
       "      <td>WANDEARAH EAST</td>\n",
       "      <td>SA</td>\n",
       "      <td>South Australia</td>\n",
       "      <td>5523</td>\n",
       "      <td>Australia</td>\n",
       "      <td>Australia</td>\n",
       "      <td>1939-07-03</td>\n",
       "    </tr>\n",
       "    <tr>\n",
       "      <th>1</th>\n",
       "      <td>325</td>\n",
       "      <td>Female</td>\n",
       "      <td>Madison Hull</td>\n",
       "      <td>MOUNT BUDD</td>\n",
       "      <td>WA</td>\n",
       "      <td>Western Australia</td>\n",
       "      <td>6522</td>\n",
       "      <td>Australia</td>\n",
       "      <td>Australia</td>\n",
       "      <td>1979-09-27</td>\n",
       "    </tr>\n",
       "    <tr>\n",
       "      <th>2</th>\n",
       "      <td>554</td>\n",
       "      <td>Female</td>\n",
       "      <td>Claire Ferres</td>\n",
       "      <td>WINJALLOK</td>\n",
       "      <td>VIC</td>\n",
       "      <td>Victoria</td>\n",
       "      <td>3380</td>\n",
       "      <td>Australia</td>\n",
       "      <td>Australia</td>\n",
       "      <td>1947-05-26</td>\n",
       "    </tr>\n",
       "    <tr>\n",
       "      <th>3</th>\n",
       "      <td>786</td>\n",
       "      <td>Male</td>\n",
       "      <td>Jai Poltpalingada</td>\n",
       "      <td>MIDDLE RIVER</td>\n",
       "      <td>SA</td>\n",
       "      <td>South Australia</td>\n",
       "      <td>5223</td>\n",
       "      <td>Australia</td>\n",
       "      <td>Australia</td>\n",
       "      <td>1957-09-17</td>\n",
       "    </tr>\n",
       "    <tr>\n",
       "      <th>4</th>\n",
       "      <td>1042</td>\n",
       "      <td>Male</td>\n",
       "      <td>Aidan Pankhurst</td>\n",
       "      <td>TAWONGA SOUTH</td>\n",
       "      <td>VIC</td>\n",
       "      <td>Victoria</td>\n",
       "      <td>3698</td>\n",
       "      <td>Australia</td>\n",
       "      <td>Australia</td>\n",
       "      <td>1965-11-19</td>\n",
       "    </tr>\n",
       "  </tbody>\n",
       "</table>\n",
       "</div>"
      ],
      "text/plain": [
       "   Customer_Key  Gender               Name            City State_Code  \\\n",
       "0           301  Female      Lilly Harding  WANDEARAH EAST         SA   \n",
       "1           325  Female       Madison Hull      MOUNT BUDD         WA   \n",
       "2           554  Female      Claire Ferres       WINJALLOK        VIC   \n",
       "3           786    Male  Jai Poltpalingada    MIDDLE RIVER         SA   \n",
       "4          1042    Male    Aidan Pankhurst   TAWONGA SOUTH        VIC   \n",
       "\n",
       "               State Zip_Code    Country  Continent    Birthday  \n",
       "0    South Australia     5523  Australia  Australia  1939-07-03  \n",
       "1  Western Australia     6522  Australia  Australia  1979-09-27  \n",
       "2           Victoria     3380  Australia  Australia  1947-05-26  \n",
       "3    South Australia     5223  Australia  Australia  1957-09-17  \n",
       "4           Victoria     3698  Australia  Australia  1965-11-19  "
      ]
     },
     "execution_count": 29,
     "metadata": {},
     "output_type": "execute_result"
    }
   ],
   "source": [
    "df_customers.head()"
   ]
  },
  {
   "cell_type": "code",
   "execution_count": null,
   "id": "946bb346-9b27-4ae9-bb24-25f4d6cc3d9f",
   "metadata": {},
   "outputs": [],
   "source": []
  },
  {
   "cell_type": "code",
   "execution_count": null,
   "id": "c986be8e-a6b2-4b45-82e9-df08e45ef656",
   "metadata": {},
   "outputs": [],
   "source": [
    "########################################SALES###############################"
   ]
  },
  {
   "cell_type": "code",
   "execution_count": 30,
   "id": "abe484c0-e34c-4e35-86a0-870e1291c8ae",
   "metadata": {},
   "outputs": [],
   "source": [
    "df_sales=pd.read_csv(\"C:/Users/Lenovo/Downloads/Sales.csv\",encoding=\"latin-1\")"
   ]
  },
  {
   "cell_type": "code",
   "execution_count": 31,
   "id": "6d544785-984f-46bb-a21d-c20a1768991e",
   "metadata": {},
   "outputs": [
    {
     "data": {
      "text/html": [
       "<div>\n",
       "<style scoped>\n",
       "    .dataframe tbody tr th:only-of-type {\n",
       "        vertical-align: middle;\n",
       "    }\n",
       "\n",
       "    .dataframe tbody tr th {\n",
       "        vertical-align: top;\n",
       "    }\n",
       "\n",
       "    .dataframe thead th {\n",
       "        text-align: right;\n",
       "    }\n",
       "</style>\n",
       "<table border=\"1\" class=\"dataframe\">\n",
       "  <thead>\n",
       "    <tr style=\"text-align: right;\">\n",
       "      <th></th>\n",
       "      <th>Order Number</th>\n",
       "      <th>Line Item</th>\n",
       "      <th>Order Date</th>\n",
       "      <th>Delivery Date</th>\n",
       "      <th>CustomerKey</th>\n",
       "      <th>StoreKey</th>\n",
       "      <th>ProductKey</th>\n",
       "      <th>Quantity</th>\n",
       "      <th>Currency Code</th>\n",
       "    </tr>\n",
       "  </thead>\n",
       "  <tbody>\n",
       "    <tr>\n",
       "      <th>0</th>\n",
       "      <td>366000</td>\n",
       "      <td>1</td>\n",
       "      <td>1/1/2016</td>\n",
       "      <td>NaN</td>\n",
       "      <td>265598</td>\n",
       "      <td>10</td>\n",
       "      <td>1304</td>\n",
       "      <td>1</td>\n",
       "      <td>CAD</td>\n",
       "    </tr>\n",
       "    <tr>\n",
       "      <th>1</th>\n",
       "      <td>366001</td>\n",
       "      <td>1</td>\n",
       "      <td>1/1/2016</td>\n",
       "      <td>1/13/2016</td>\n",
       "      <td>1269051</td>\n",
       "      <td>0</td>\n",
       "      <td>1048</td>\n",
       "      <td>2</td>\n",
       "      <td>USD</td>\n",
       "    </tr>\n",
       "    <tr>\n",
       "      <th>2</th>\n",
       "      <td>366001</td>\n",
       "      <td>2</td>\n",
       "      <td>1/1/2016</td>\n",
       "      <td>1/13/2016</td>\n",
       "      <td>1269051</td>\n",
       "      <td>0</td>\n",
       "      <td>2007</td>\n",
       "      <td>1</td>\n",
       "      <td>USD</td>\n",
       "    </tr>\n",
       "    <tr>\n",
       "      <th>3</th>\n",
       "      <td>366002</td>\n",
       "      <td>1</td>\n",
       "      <td>1/1/2016</td>\n",
       "      <td>1/12/2016</td>\n",
       "      <td>266019</td>\n",
       "      <td>0</td>\n",
       "      <td>1106</td>\n",
       "      <td>7</td>\n",
       "      <td>CAD</td>\n",
       "    </tr>\n",
       "    <tr>\n",
       "      <th>4</th>\n",
       "      <td>366002</td>\n",
       "      <td>2</td>\n",
       "      <td>1/1/2016</td>\n",
       "      <td>1/12/2016</td>\n",
       "      <td>266019</td>\n",
       "      <td>0</td>\n",
       "      <td>373</td>\n",
       "      <td>1</td>\n",
       "      <td>CAD</td>\n",
       "    </tr>\n",
       "  </tbody>\n",
       "</table>\n",
       "</div>"
      ],
      "text/plain": [
       "   Order Number  Line Item Order Date Delivery Date  CustomerKey  StoreKey  \\\n",
       "0        366000          1   1/1/2016           NaN       265598        10   \n",
       "1        366001          1   1/1/2016     1/13/2016      1269051         0   \n",
       "2        366001          2   1/1/2016     1/13/2016      1269051         0   \n",
       "3        366002          1   1/1/2016     1/12/2016       266019         0   \n",
       "4        366002          2   1/1/2016     1/12/2016       266019         0   \n",
       "\n",
       "   ProductKey  Quantity Currency Code  \n",
       "0        1304         1           CAD  \n",
       "1        1048         2           USD  \n",
       "2        2007         1           USD  \n",
       "3        1106         7           CAD  \n",
       "4         373         1           CAD  "
      ]
     },
     "execution_count": 31,
     "metadata": {},
     "output_type": "execute_result"
    }
   ],
   "source": [
    "df_sales.head()"
   ]
  },
  {
   "cell_type": "code",
   "execution_count": 32,
   "id": "6c38d9e3-62db-47e7-8968-6a29839a3b00",
   "metadata": {},
   "outputs": [
    {
     "data": {
      "text/plain": [
       "Order Number         0\n",
       "Line Item            0\n",
       "Order Date           0\n",
       "Delivery Date    49719\n",
       "CustomerKey          0\n",
       "StoreKey             0\n",
       "ProductKey           0\n",
       "Quantity             0\n",
       "Currency Code        0\n",
       "dtype: int64"
      ]
     },
     "execution_count": 32,
     "metadata": {},
     "output_type": "execute_result"
    }
   ],
   "source": [
    "df_sales.isnull().sum()"
   ]
  },
  {
   "cell_type": "code",
   "execution_count": 33,
   "id": "67c96256-af04-403f-b3bb-39663c399f61",
   "metadata": {},
   "outputs": [],
   "source": [
    "def null_value_imputer(df_sales):\n",
    "    for i in df_sales.columns:\n",
    "        # Drop columns with 80% or more missing values\n",
    "        if (df_sales[i].isnull().sum() / len(df_sales)) * 100 >= 80:\n",
    "            df_sales.drop(i, axis=1, inplace=True)\n",
    "        # Impute missing values in numeric columns\n",
    "        elif df_sales[i].dtype in ['int64', 'float64']:\n",
    "            # Check the skewness of the column\n",
    "            if -0.4 < df_sales[i].skew() < 0.4:\n",
    "                # If skewness is low, fill missing values with the mean\n",
    "                df_sales[i].fillna(df_sales[i].mean(), inplace=True)\n",
    "            else:\n",
    "                # If skewness is high, fill missing values with the median\n",
    "                df_sales[i].fillna(df_sales[i].median(), inplace=True)\n",
    "        else:\n",
    "            # For categorical columns, fill missing values with the mode\n",
    "            df_sales[i].fillna(df_sales[i].mode()[0], inplace=True)\n",
    "    \n",
    "    # Print the number of null values after imputation\n",
    "    print(\"Null Values after imputation:\\n\", df_sales.isnull().sum())\n",
    "    print(df_sales.isnull().sum())\n"
   ]
  },
  {
   "cell_type": "code",
   "execution_count": 34,
   "id": "eae55c9c-72aa-4ad3-a65d-cba762ecf863",
   "metadata": {},
   "outputs": [
    {
     "name": "stdout",
     "output_type": "stream",
     "text": [
      "Null Values after imputation:\n",
      " Order Number     0\n",
      "Line Item        0\n",
      "Order Date       0\n",
      "Delivery Date    0\n",
      "CustomerKey      0\n",
      "StoreKey         0\n",
      "ProductKey       0\n",
      "Quantity         0\n",
      "Currency Code    0\n",
      "dtype: int64\n",
      "Order Number     0\n",
      "Line Item        0\n",
      "Order Date       0\n",
      "Delivery Date    0\n",
      "CustomerKey      0\n",
      "StoreKey         0\n",
      "ProductKey       0\n",
      "Quantity         0\n",
      "Currency Code    0\n",
      "dtype: int64\n"
     ]
    }
   ],
   "source": [
    "null_value_imputer(df_sales)"
   ]
  },
  {
   "cell_type": "code",
   "execution_count": 35,
   "id": "7ee85ffb-93cd-489f-be2c-ce5433e4feb1",
   "metadata": {},
   "outputs": [
    {
     "data": {
      "text/plain": [
       "0"
      ]
     },
     "execution_count": 35,
     "metadata": {},
     "output_type": "execute_result"
    }
   ],
   "source": [
    "df_sales.duplicated().sum()"
   ]
  },
  {
   "cell_type": "code",
   "execution_count": 36,
   "id": "c58140dd-2d3d-4cf5-a5de-24d817a962df",
   "metadata": {},
   "outputs": [],
   "source": [
    "df_sales.rename(columns={'Order Number': 'Order_Number'}, inplace=True)\n",
    "df_sales.rename(columns={'Line Item': 'Line_Item'}, inplace=True)\n",
    "df_sales.rename(columns={'Order Date': 'Order_Date'}, inplace=True)\n",
    "df_sales.rename(columns={'Delivery Date': 'Delivery_Date'}, inplace=True)\n",
    "df_sales.rename(columns={'Currency Code': 'Currency_Code'}, inplace=True)\n",
    "df_sales.rename(columns={'CustomerKey': 'Customer_Key'}, inplace=True)\n",
    "df_sales.rename(columns={'StoreKey': 'Store_Key'}, inplace=True)\n",
    "df_sales.rename(columns={'ProductKey': 'Product_Key'}, inplace=True)"
   ]
  },
  {
   "cell_type": "code",
   "execution_count": 37,
   "id": "74384520-d460-4393-b3bb-85cb771b71cb",
   "metadata": {},
   "outputs": [
    {
     "data": {
      "text/html": [
       "<div>\n",
       "<style scoped>\n",
       "    .dataframe tbody tr th:only-of-type {\n",
       "        vertical-align: middle;\n",
       "    }\n",
       "\n",
       "    .dataframe tbody tr th {\n",
       "        vertical-align: top;\n",
       "    }\n",
       "\n",
       "    .dataframe thead th {\n",
       "        text-align: right;\n",
       "    }\n",
       "</style>\n",
       "<table border=\"1\" class=\"dataframe\">\n",
       "  <thead>\n",
       "    <tr style=\"text-align: right;\">\n",
       "      <th></th>\n",
       "      <th>Order_Number</th>\n",
       "      <th>Line_Item</th>\n",
       "      <th>Order_Date</th>\n",
       "      <th>Delivery_Date</th>\n",
       "      <th>Customer_Key</th>\n",
       "      <th>Store_Key</th>\n",
       "      <th>Product_Key</th>\n",
       "      <th>Quantity</th>\n",
       "      <th>Currency_Code</th>\n",
       "    </tr>\n",
       "  </thead>\n",
       "  <tbody>\n",
       "    <tr>\n",
       "      <th>0</th>\n",
       "      <td>366000</td>\n",
       "      <td>1</td>\n",
       "      <td>1/1/2016</td>\n",
       "      <td>1/6/2020</td>\n",
       "      <td>265598</td>\n",
       "      <td>10</td>\n",
       "      <td>1304</td>\n",
       "      <td>1</td>\n",
       "      <td>CAD</td>\n",
       "    </tr>\n",
       "    <tr>\n",
       "      <th>1</th>\n",
       "      <td>366001</td>\n",
       "      <td>1</td>\n",
       "      <td>1/1/2016</td>\n",
       "      <td>1/13/2016</td>\n",
       "      <td>1269051</td>\n",
       "      <td>0</td>\n",
       "      <td>1048</td>\n",
       "      <td>2</td>\n",
       "      <td>USD</td>\n",
       "    </tr>\n",
       "    <tr>\n",
       "      <th>2</th>\n",
       "      <td>366001</td>\n",
       "      <td>2</td>\n",
       "      <td>1/1/2016</td>\n",
       "      <td>1/13/2016</td>\n",
       "      <td>1269051</td>\n",
       "      <td>0</td>\n",
       "      <td>2007</td>\n",
       "      <td>1</td>\n",
       "      <td>USD</td>\n",
       "    </tr>\n",
       "    <tr>\n",
       "      <th>3</th>\n",
       "      <td>366002</td>\n",
       "      <td>1</td>\n",
       "      <td>1/1/2016</td>\n",
       "      <td>1/12/2016</td>\n",
       "      <td>266019</td>\n",
       "      <td>0</td>\n",
       "      <td>1106</td>\n",
       "      <td>7</td>\n",
       "      <td>CAD</td>\n",
       "    </tr>\n",
       "    <tr>\n",
       "      <th>4</th>\n",
       "      <td>366002</td>\n",
       "      <td>2</td>\n",
       "      <td>1/1/2016</td>\n",
       "      <td>1/12/2016</td>\n",
       "      <td>266019</td>\n",
       "      <td>0</td>\n",
       "      <td>373</td>\n",
       "      <td>1</td>\n",
       "      <td>CAD</td>\n",
       "    </tr>\n",
       "  </tbody>\n",
       "</table>\n",
       "</div>"
      ],
      "text/plain": [
       "   Order_Number  Line_Item Order_Date Delivery_Date  Customer_Key  Store_Key  \\\n",
       "0        366000          1   1/1/2016      1/6/2020        265598         10   \n",
       "1        366001          1   1/1/2016     1/13/2016       1269051          0   \n",
       "2        366001          2   1/1/2016     1/13/2016       1269051          0   \n",
       "3        366002          1   1/1/2016     1/12/2016        266019          0   \n",
       "4        366002          2   1/1/2016     1/12/2016        266019          0   \n",
       "\n",
       "   Product_Key  Quantity Currency_Code  \n",
       "0         1304         1           CAD  \n",
       "1         1048         2           USD  \n",
       "2         2007         1           USD  \n",
       "3         1106         7           CAD  \n",
       "4          373         1           CAD  "
      ]
     },
     "execution_count": 37,
     "metadata": {},
     "output_type": "execute_result"
    }
   ],
   "source": [
    "df_sales.head()"
   ]
  },
  {
   "cell_type": "code",
   "execution_count": 38,
   "id": "e6e6c98d-fc10-41c9-8a6d-e50b75e04cbb",
   "metadata": {},
   "outputs": [
    {
     "data": {
      "text/plain": [
       "Order_Number      int64\n",
       "Line_Item         int64\n",
       "Order_Date       object\n",
       "Delivery_Date    object\n",
       "Customer_Key      int64\n",
       "Store_Key         int64\n",
       "Product_Key       int64\n",
       "Quantity          int64\n",
       "Currency_Code    object\n",
       "dtype: object"
      ]
     },
     "execution_count": 38,
     "metadata": {},
     "output_type": "execute_result"
    }
   ],
   "source": [
    "df_sales.dtypes"
   ]
  },
  {
   "cell_type": "code",
   "execution_count": 39,
   "id": "53955599-36cc-4513-b3c3-e39b639d11cc",
   "metadata": {},
   "outputs": [],
   "source": [
    "df_sales['Order_Date'] = pd.to_datetime(df_sales['Order_Date'], errors='coerce')\n",
    "df_sales['Order_Date'] = df_sales['Order_Date'].dt.strftime('%Y-%m-%d')\n",
    "\n",
    "\n",
    "df_sales['Delivery_Date'] = pd.to_datetime(df_sales['Delivery_Date'], errors='coerce')\n",
    "df_sales['Delivery_Date'] = df_sales['Delivery_Date'].dt.strftime('%Y-%m-%d')"
   ]
  },
  {
   "cell_type": "code",
   "execution_count": 40,
   "id": "815d2512-3b1a-4b17-92ba-cd50a6e9478a",
   "metadata": {},
   "outputs": [
    {
     "data": {
      "text/html": [
       "<div>\n",
       "<style scoped>\n",
       "    .dataframe tbody tr th:only-of-type {\n",
       "        vertical-align: middle;\n",
       "    }\n",
       "\n",
       "    .dataframe tbody tr th {\n",
       "        vertical-align: top;\n",
       "    }\n",
       "\n",
       "    .dataframe thead th {\n",
       "        text-align: right;\n",
       "    }\n",
       "</style>\n",
       "<table border=\"1\" class=\"dataframe\">\n",
       "  <thead>\n",
       "    <tr style=\"text-align: right;\">\n",
       "      <th></th>\n",
       "      <th>Order_Number</th>\n",
       "      <th>Line_Item</th>\n",
       "      <th>Order_Date</th>\n",
       "      <th>Delivery_Date</th>\n",
       "      <th>Customer_Key</th>\n",
       "      <th>Store_Key</th>\n",
       "      <th>Product_Key</th>\n",
       "      <th>Quantity</th>\n",
       "      <th>Currency_Code</th>\n",
       "    </tr>\n",
       "  </thead>\n",
       "  <tbody>\n",
       "    <tr>\n",
       "      <th>0</th>\n",
       "      <td>366000</td>\n",
       "      <td>1</td>\n",
       "      <td>2016-01-01</td>\n",
       "      <td>2020-01-06</td>\n",
       "      <td>265598</td>\n",
       "      <td>10</td>\n",
       "      <td>1304</td>\n",
       "      <td>1</td>\n",
       "      <td>CAD</td>\n",
       "    </tr>\n",
       "    <tr>\n",
       "      <th>1</th>\n",
       "      <td>366001</td>\n",
       "      <td>1</td>\n",
       "      <td>2016-01-01</td>\n",
       "      <td>2016-01-13</td>\n",
       "      <td>1269051</td>\n",
       "      <td>0</td>\n",
       "      <td>1048</td>\n",
       "      <td>2</td>\n",
       "      <td>USD</td>\n",
       "    </tr>\n",
       "    <tr>\n",
       "      <th>2</th>\n",
       "      <td>366001</td>\n",
       "      <td>2</td>\n",
       "      <td>2016-01-01</td>\n",
       "      <td>2016-01-13</td>\n",
       "      <td>1269051</td>\n",
       "      <td>0</td>\n",
       "      <td>2007</td>\n",
       "      <td>1</td>\n",
       "      <td>USD</td>\n",
       "    </tr>\n",
       "    <tr>\n",
       "      <th>3</th>\n",
       "      <td>366002</td>\n",
       "      <td>1</td>\n",
       "      <td>2016-01-01</td>\n",
       "      <td>2016-01-12</td>\n",
       "      <td>266019</td>\n",
       "      <td>0</td>\n",
       "      <td>1106</td>\n",
       "      <td>7</td>\n",
       "      <td>CAD</td>\n",
       "    </tr>\n",
       "    <tr>\n",
       "      <th>4</th>\n",
       "      <td>366002</td>\n",
       "      <td>2</td>\n",
       "      <td>2016-01-01</td>\n",
       "      <td>2016-01-12</td>\n",
       "      <td>266019</td>\n",
       "      <td>0</td>\n",
       "      <td>373</td>\n",
       "      <td>1</td>\n",
       "      <td>CAD</td>\n",
       "    </tr>\n",
       "  </tbody>\n",
       "</table>\n",
       "</div>"
      ],
      "text/plain": [
       "   Order_Number  Line_Item  Order_Date Delivery_Date  Customer_Key  Store_Key  \\\n",
       "0        366000          1  2016-01-01    2020-01-06        265598         10   \n",
       "1        366001          1  2016-01-01    2016-01-13       1269051          0   \n",
       "2        366001          2  2016-01-01    2016-01-13       1269051          0   \n",
       "3        366002          1  2016-01-01    2016-01-12        266019          0   \n",
       "4        366002          2  2016-01-01    2016-01-12        266019          0   \n",
       "\n",
       "   Product_Key  Quantity Currency_Code  \n",
       "0         1304         1           CAD  \n",
       "1         1048         2           USD  \n",
       "2         2007         1           USD  \n",
       "3         1106         7           CAD  \n",
       "4          373         1           CAD  "
      ]
     },
     "execution_count": 40,
     "metadata": {},
     "output_type": "execute_result"
    }
   ],
   "source": [
    "df_sales.head()"
   ]
  },
  {
   "cell_type": "code",
   "execution_count": 41,
   "id": "ebb6ea98-55ab-4592-bbc4-8844b6f298ea",
   "metadata": {},
   "outputs": [
    {
     "data": {
      "text/plain": [
       "Order_Number      int64\n",
       "Line_Item         int64\n",
       "Order_Date       object\n",
       "Delivery_Date    object\n",
       "Customer_Key      int64\n",
       "Store_Key         int64\n",
       "Product_Key       int64\n",
       "Quantity          int64\n",
       "Currency_Code    object\n",
       "dtype: object"
      ]
     },
     "execution_count": 41,
     "metadata": {},
     "output_type": "execute_result"
    }
   ],
   "source": [
    "df_sales.dtypes"
   ]
  },
  {
   "cell_type": "code",
   "execution_count": 42,
   "id": "5d319fab-95d1-461e-b08e-e0dadea7dde4",
   "metadata": {},
   "outputs": [],
   "source": [
    "df_sales.to_csv('sales_data.csv', index=False)"
   ]
  },
  {
   "cell_type": "code",
   "execution_count": 43,
   "id": "421c6926-06c2-4449-8406-ef9c8131055f",
   "metadata": {},
   "outputs": [],
   "source": [
    "import pymysql"
   ]
  },
  {
   "cell_type": "code",
   "execution_count": 44,
   "id": "396c657f-8309-45ce-b3bf-24818143ca41",
   "metadata": {},
   "outputs": [],
   "source": [
    "myconnection = pymysql.connect(host='127.0.0.1',user='root',password='root')"
   ]
  },
  {
   "cell_type": "code",
   "execution_count": 45,
   "id": "193eea9e-1ce4-4781-98ab-79ab44a1964c",
   "metadata": {},
   "outputs": [],
   "source": [
    "a=\",\".join(f\"{i} {j}\"\n",
    "for i,j in zip(df_sales.columns,df_sales.dtypes)).replace(\"float64\",\"float\").replace(\"category\",\"text\").replace(\"int64\",\"int\").replace(\"object\",\"text\")"
   ]
  },
  {
   "cell_type": "code",
   "execution_count": 47,
   "id": "af16f6cf-8b37-4706-9a0f-0e0b2111683c",
   "metadata": {},
   "outputs": [
    {
     "data": {
      "text/plain": [
       "'create table sales_data (Order_Number int,Line_Item int,Order_Date text,Delivery_Date text,Customer_Key int,Store_Key int,Product_Key int,Quantity int,Currency_Code text)'"
      ]
     },
     "execution_count": 47,
     "metadata": {},
     "output_type": "execute_result"
    }
   ],
   "source": [
    "f\"create table sales_data ({a})\""
   ]
  },
  {
   "cell_type": "code",
   "execution_count": 48,
   "id": "02724289-98e1-4fd0-ad63-43153027b2c3",
   "metadata": {},
   "outputs": [
    {
     "data": {
      "text/plain": [
       "0"
      ]
     },
     "execution_count": 48,
     "metadata": {},
     "output_type": "execute_result"
    }
   ],
   "source": [
    "myconnection.cursor().execute(f\"create table data.sales_data ({a})\")"
   ]
  },
  {
   "cell_type": "code",
   "execution_count": 49,
   "id": "c0cbac8b-09e3-41ea-a307-e9ff6886ff04",
   "metadata": {},
   "outputs": [
    {
     "data": {
      "text/plain": [
       "62884"
      ]
     },
     "execution_count": 49,
     "metadata": {},
     "output_type": "execute_result"
    }
   ],
   "source": [
    "len(df_sales)"
   ]
  },
  {
   "cell_type": "code",
   "execution_count": 50,
   "id": "84bbb984-c6e8-4cf2-ad97-f323cbf8c687",
   "metadata": {},
   "outputs": [],
   "source": [
    "sql = \"insert into data.sales_data values\"\n",
    "for i in range(len(df_sales)):\n",
    "    myconnection.cursor().execute(f\"{sql} {tuple(df_sales.iloc[i])}\")\n",
    "    myconnection.commit()"
   ]
  },
  {
   "cell_type": "code",
   "execution_count": 51,
   "id": "ce4efbf9-20ea-46fd-9a51-0c73171f5a21",
   "metadata": {},
   "outputs": [
    {
     "data": {
      "text/html": [
       "<div>\n",
       "<style scoped>\n",
       "    .dataframe tbody tr th:only-of-type {\n",
       "        vertical-align: middle;\n",
       "    }\n",
       "\n",
       "    .dataframe tbody tr th {\n",
       "        vertical-align: top;\n",
       "    }\n",
       "\n",
       "    .dataframe thead th {\n",
       "        text-align: right;\n",
       "    }\n",
       "</style>\n",
       "<table border=\"1\" class=\"dataframe\">\n",
       "  <thead>\n",
       "    <tr style=\"text-align: right;\">\n",
       "      <th></th>\n",
       "      <th>Order_Number</th>\n",
       "      <th>Line_Item</th>\n",
       "      <th>Order_Date</th>\n",
       "      <th>Delivery_Date</th>\n",
       "      <th>Customer_Key</th>\n",
       "      <th>Store_Key</th>\n",
       "      <th>Product_Key</th>\n",
       "      <th>Quantity</th>\n",
       "      <th>Currency_Code</th>\n",
       "    </tr>\n",
       "  </thead>\n",
       "  <tbody>\n",
       "    <tr>\n",
       "      <th>0</th>\n",
       "      <td>366000</td>\n",
       "      <td>1</td>\n",
       "      <td>2016-01-01</td>\n",
       "      <td>2020-01-06</td>\n",
       "      <td>265598</td>\n",
       "      <td>10</td>\n",
       "      <td>1304</td>\n",
       "      <td>1</td>\n",
       "      <td>CAD</td>\n",
       "    </tr>\n",
       "    <tr>\n",
       "      <th>1</th>\n",
       "      <td>366001</td>\n",
       "      <td>1</td>\n",
       "      <td>2016-01-01</td>\n",
       "      <td>2016-01-13</td>\n",
       "      <td>1269051</td>\n",
       "      <td>0</td>\n",
       "      <td>1048</td>\n",
       "      <td>2</td>\n",
       "      <td>USD</td>\n",
       "    </tr>\n",
       "    <tr>\n",
       "      <th>2</th>\n",
       "      <td>366001</td>\n",
       "      <td>2</td>\n",
       "      <td>2016-01-01</td>\n",
       "      <td>2016-01-13</td>\n",
       "      <td>1269051</td>\n",
       "      <td>0</td>\n",
       "      <td>2007</td>\n",
       "      <td>1</td>\n",
       "      <td>USD</td>\n",
       "    </tr>\n",
       "    <tr>\n",
       "      <th>3</th>\n",
       "      <td>366002</td>\n",
       "      <td>1</td>\n",
       "      <td>2016-01-01</td>\n",
       "      <td>2016-01-12</td>\n",
       "      <td>266019</td>\n",
       "      <td>0</td>\n",
       "      <td>1106</td>\n",
       "      <td>7</td>\n",
       "      <td>CAD</td>\n",
       "    </tr>\n",
       "    <tr>\n",
       "      <th>4</th>\n",
       "      <td>366002</td>\n",
       "      <td>2</td>\n",
       "      <td>2016-01-01</td>\n",
       "      <td>2016-01-12</td>\n",
       "      <td>266019</td>\n",
       "      <td>0</td>\n",
       "      <td>373</td>\n",
       "      <td>1</td>\n",
       "      <td>CAD</td>\n",
       "    </tr>\n",
       "  </tbody>\n",
       "</table>\n",
       "</div>"
      ],
      "text/plain": [
       "   Order_Number  Line_Item  Order_Date Delivery_Date  Customer_Key  Store_Key  \\\n",
       "0        366000          1  2016-01-01    2020-01-06        265598         10   \n",
       "1        366001          1  2016-01-01    2016-01-13       1269051          0   \n",
       "2        366001          2  2016-01-01    2016-01-13       1269051          0   \n",
       "3        366002          1  2016-01-01    2016-01-12        266019          0   \n",
       "4        366002          2  2016-01-01    2016-01-12        266019          0   \n",
       "\n",
       "   Product_Key  Quantity Currency_Code  \n",
       "0         1304         1           CAD  \n",
       "1         1048         2           USD  \n",
       "2         2007         1           USD  \n",
       "3         1106         7           CAD  \n",
       "4          373         1           CAD  "
      ]
     },
     "execution_count": 51,
     "metadata": {},
     "output_type": "execute_result"
    }
   ],
   "source": [
    "df_sales.head()"
   ]
  },
  {
   "cell_type": "code",
   "execution_count": null,
   "id": "e8bcd1de-9830-4069-9b16-8593ff75cf0b",
   "metadata": {},
   "outputs": [],
   "source": []
  },
  {
   "cell_type": "code",
   "execution_count": null,
   "id": "c3a6e657-c950-4d8c-9757-c630e18820c4",
   "metadata": {},
   "outputs": [],
   "source": []
  },
  {
   "cell_type": "code",
   "execution_count": null,
   "id": "4300568e-0354-4bbf-87a4-6c4a376bb71a",
   "metadata": {},
   "outputs": [],
   "source": [
    "###########################################PRODUCTS##############################################"
   ]
  },
  {
   "cell_type": "code",
   "execution_count": 58,
   "id": "023fdc8a-e42f-4f5e-83ae-2463543d51da",
   "metadata": {},
   "outputs": [],
   "source": [
    "import pandas as pd"
   ]
  },
  {
   "cell_type": "code",
   "execution_count": 59,
   "id": "2e1355f1-8537-4775-b064-a9af047076b2",
   "metadata": {},
   "outputs": [],
   "source": [
    "df_products=pd.read_csv(\"C:/Users/Lenovo/Downloads/Products.csv\",encoding=\"latin-1\")"
   ]
  },
  {
   "cell_type": "code",
   "execution_count": 60,
   "id": "e046059f-9ee3-4711-a40d-73999cb88ae3",
   "metadata": {},
   "outputs": [
    {
     "data": {
      "text/html": [
       "<div>\n",
       "<style scoped>\n",
       "    .dataframe tbody tr th:only-of-type {\n",
       "        vertical-align: middle;\n",
       "    }\n",
       "\n",
       "    .dataframe tbody tr th {\n",
       "        vertical-align: top;\n",
       "    }\n",
       "\n",
       "    .dataframe thead th {\n",
       "        text-align: right;\n",
       "    }\n",
       "</style>\n",
       "<table border=\"1\" class=\"dataframe\">\n",
       "  <thead>\n",
       "    <tr style=\"text-align: right;\">\n",
       "      <th></th>\n",
       "      <th>ProductKey</th>\n",
       "      <th>Product Name</th>\n",
       "      <th>Brand</th>\n",
       "      <th>Color</th>\n",
       "      <th>Unit Cost USD</th>\n",
       "      <th>Unit Price USD</th>\n",
       "      <th>SubcategoryKey</th>\n",
       "      <th>Subcategory</th>\n",
       "      <th>CategoryKey</th>\n",
       "      <th>Category</th>\n",
       "    </tr>\n",
       "  </thead>\n",
       "  <tbody>\n",
       "    <tr>\n",
       "      <th>0</th>\n",
       "      <td>1</td>\n",
       "      <td>Contoso 512MB MP3 Player E51 Silver</td>\n",
       "      <td>Contoso</td>\n",
       "      <td>Silver</td>\n",
       "      <td>$6.62</td>\n",
       "      <td>$12.99</td>\n",
       "      <td>101</td>\n",
       "      <td>MP4&amp;MP3</td>\n",
       "      <td>1</td>\n",
       "      <td>Audio</td>\n",
       "    </tr>\n",
       "    <tr>\n",
       "      <th>1</th>\n",
       "      <td>2</td>\n",
       "      <td>Contoso 512MB MP3 Player E51 Blue</td>\n",
       "      <td>Contoso</td>\n",
       "      <td>Blue</td>\n",
       "      <td>$6.62</td>\n",
       "      <td>$12.99</td>\n",
       "      <td>101</td>\n",
       "      <td>MP4&amp;MP3</td>\n",
       "      <td>1</td>\n",
       "      <td>Audio</td>\n",
       "    </tr>\n",
       "    <tr>\n",
       "      <th>2</th>\n",
       "      <td>3</td>\n",
       "      <td>Contoso 1G MP3 Player E100 White</td>\n",
       "      <td>Contoso</td>\n",
       "      <td>White</td>\n",
       "      <td>$7.40</td>\n",
       "      <td>$14.52</td>\n",
       "      <td>101</td>\n",
       "      <td>MP4&amp;MP3</td>\n",
       "      <td>1</td>\n",
       "      <td>Audio</td>\n",
       "    </tr>\n",
       "    <tr>\n",
       "      <th>3</th>\n",
       "      <td>4</td>\n",
       "      <td>Contoso 2G MP3 Player E200 Silver</td>\n",
       "      <td>Contoso</td>\n",
       "      <td>Silver</td>\n",
       "      <td>$11.00</td>\n",
       "      <td>$21.57</td>\n",
       "      <td>101</td>\n",
       "      <td>MP4&amp;MP3</td>\n",
       "      <td>1</td>\n",
       "      <td>Audio</td>\n",
       "    </tr>\n",
       "    <tr>\n",
       "      <th>4</th>\n",
       "      <td>5</td>\n",
       "      <td>Contoso 2G MP3 Player E200 Red</td>\n",
       "      <td>Contoso</td>\n",
       "      <td>Red</td>\n",
       "      <td>$11.00</td>\n",
       "      <td>$21.57</td>\n",
       "      <td>101</td>\n",
       "      <td>MP4&amp;MP3</td>\n",
       "      <td>1</td>\n",
       "      <td>Audio</td>\n",
       "    </tr>\n",
       "  </tbody>\n",
       "</table>\n",
       "</div>"
      ],
      "text/plain": [
       "   ProductKey                         Product Name    Brand   Color  \\\n",
       "0           1  Contoso 512MB MP3 Player E51 Silver  Contoso  Silver   \n",
       "1           2    Contoso 512MB MP3 Player E51 Blue  Contoso    Blue   \n",
       "2           3     Contoso 1G MP3 Player E100 White  Contoso   White   \n",
       "3           4    Contoso 2G MP3 Player E200 Silver  Contoso  Silver   \n",
       "4           5       Contoso 2G MP3 Player E200 Red  Contoso     Red   \n",
       "\n",
       "  Unit Cost USD Unit Price USD  SubcategoryKey Subcategory  CategoryKey  \\\n",
       "0        $6.62         $12.99              101     MP4&MP3            1   \n",
       "1        $6.62         $12.99              101     MP4&MP3            1   \n",
       "2        $7.40         $14.52              101     MP4&MP3            1   \n",
       "3       $11.00         $21.57              101     MP4&MP3            1   \n",
       "4       $11.00         $21.57              101     MP4&MP3            1   \n",
       "\n",
       "  Category  \n",
       "0    Audio  \n",
       "1    Audio  \n",
       "2    Audio  \n",
       "3    Audio  \n",
       "4    Audio  "
      ]
     },
     "execution_count": 60,
     "metadata": {},
     "output_type": "execute_result"
    }
   ],
   "source": [
    "df_products.head()"
   ]
  },
  {
   "cell_type": "code",
   "execution_count": 61,
   "id": "480646bf-4054-4c2d-98e3-ac1d20e69193",
   "metadata": {},
   "outputs": [
    {
     "data": {
      "text/plain": [
       "ProductKey        0\n",
       "Product Name      0\n",
       "Brand             0\n",
       "Color             0\n",
       "Unit Cost USD     0\n",
       "Unit Price USD    0\n",
       "SubcategoryKey    0\n",
       "Subcategory       0\n",
       "CategoryKey       0\n",
       "Category          0\n",
       "dtype: int64"
      ]
     },
     "execution_count": 61,
     "metadata": {},
     "output_type": "execute_result"
    }
   ],
   "source": [
    "df_products.isnull().sum()"
   ]
  },
  {
   "cell_type": "code",
   "execution_count": 62,
   "id": "1004d7aa-6a76-44fc-a994-a7aef5978c52",
   "metadata": {},
   "outputs": [],
   "source": [
    "def null_value_imputer(df_products):\n",
    "    for i in df_products.columns:\n",
    "        # Drop columns with 80% or more missing values\n",
    "        if (df_products[i].isnull().sum() / len(df_products)) * 100 >= 80:\n",
    "            df_products.drop(i, axis=1, inplace=True)\n",
    "        # Impute missing values in numeric columns\n",
    "        elif df_products[i].dtype in ['int64', 'float64']:\n",
    "            # Check the skewness of the column\n",
    "            if -0.4 < df_products[i].skew() < 0.4:\n",
    "                # If skewness is low, fill missing values with the mean\n",
    "                df_products[i].fillna(df_products[i].mean(), inplace=True)\n",
    "            else:\n",
    "                # If skewness is high, fill missing values with the median\n",
    "                df_products[i].fillna(df_products[i].median(), inplace=True)\n",
    "        else:\n",
    "            # For categorical columns, fill missing values with the mode\n",
    "            df_products[i].fillna(df_products[i].mode()[0], inplace=True)\n",
    "    \n",
    "    # Print the number of null values after imputation\n",
    "    print(\"Null Values after imputation:\\n\", df_products.isnull().sum())\n",
    "    print(df_products.isnull().sum())\n"
   ]
  },
  {
   "cell_type": "code",
   "execution_count": 63,
   "id": "b0bde09f-bb79-4eab-ba61-4bd2b5fcd771",
   "metadata": {},
   "outputs": [
    {
     "name": "stdout",
     "output_type": "stream",
     "text": [
      "Null Values after imputation:\n",
      " ProductKey        0\n",
      "Product Name      0\n",
      "Brand             0\n",
      "Color             0\n",
      "Unit Cost USD     0\n",
      "Unit Price USD    0\n",
      "SubcategoryKey    0\n",
      "Subcategory       0\n",
      "CategoryKey       0\n",
      "Category          0\n",
      "dtype: int64\n",
      "ProductKey        0\n",
      "Product Name      0\n",
      "Brand             0\n",
      "Color             0\n",
      "Unit Cost USD     0\n",
      "Unit Price USD    0\n",
      "SubcategoryKey    0\n",
      "Subcategory       0\n",
      "CategoryKey       0\n",
      "Category          0\n",
      "dtype: int64\n"
     ]
    }
   ],
   "source": [
    "null_value_imputer(df_products)"
   ]
  },
  {
   "cell_type": "code",
   "execution_count": 64,
   "id": "237b4620-9e17-48a7-8f59-f4af73eb3f1f",
   "metadata": {},
   "outputs": [
    {
     "data": {
      "text/plain": [
       "0"
      ]
     },
     "execution_count": 64,
     "metadata": {},
     "output_type": "execute_result"
    }
   ],
   "source": [
    "df_products.duplicated().sum()"
   ]
  },
  {
   "cell_type": "code",
   "execution_count": 65,
   "id": "50d66667-c2ba-4a6c-be3f-238e6e2e7507",
   "metadata": {},
   "outputs": [],
   "source": [
    "df_products.rename(columns={'ProductKey': 'Product_Key'}, inplace=True)\n",
    "df_products.rename(columns={'Product Name': 'Product_Name'}, inplace=True)\n",
    "df_products.rename(columns={'Unit Cost USD': 'Unit_Cost_USD'}, inplace=True)\n",
    "df_products.rename(columns={'Unit Price USD': 'Unit_Price_USD'}, inplace=True)\n",
    "df_products.rename(columns={'SubcategoryKey': 'Sub_category_Key'}, inplace=True)\n",
    "df_products.rename(columns={'Subcategory': 'Sub_category'}, inplace=True)\n",
    "df_products.rename(columns={'CategoryKey': 'Category_Key'}, inplace=True)\n"
   ]
  },
  {
   "cell_type": "code",
   "execution_count": 67,
   "id": "9533442a-5370-4843-a7aa-b1e22eb29777",
   "metadata": {},
   "outputs": [
    {
     "data": {
      "text/html": [
       "<div>\n",
       "<style scoped>\n",
       "    .dataframe tbody tr th:only-of-type {\n",
       "        vertical-align: middle;\n",
       "    }\n",
       "\n",
       "    .dataframe tbody tr th {\n",
       "        vertical-align: top;\n",
       "    }\n",
       "\n",
       "    .dataframe thead th {\n",
       "        text-align: right;\n",
       "    }\n",
       "</style>\n",
       "<table border=\"1\" class=\"dataframe\">\n",
       "  <thead>\n",
       "    <tr style=\"text-align: right;\">\n",
       "      <th></th>\n",
       "      <th>Product_Key</th>\n",
       "      <th>Product_Name</th>\n",
       "      <th>Brand</th>\n",
       "      <th>Color</th>\n",
       "      <th>Unit_Cost_USD</th>\n",
       "      <th>Unit_Price_USD</th>\n",
       "      <th>Sub_category_Key</th>\n",
       "      <th>Sub_category</th>\n",
       "      <th>Category_Key</th>\n",
       "      <th>Category</th>\n",
       "    </tr>\n",
       "  </thead>\n",
       "  <tbody>\n",
       "    <tr>\n",
       "      <th>0</th>\n",
       "      <td>1</td>\n",
       "      <td>Contoso 512MB MP3 Player E51 Silver</td>\n",
       "      <td>Contoso</td>\n",
       "      <td>Silver</td>\n",
       "      <td>$6.62</td>\n",
       "      <td>$12.99</td>\n",
       "      <td>101</td>\n",
       "      <td>MP4&amp;MP3</td>\n",
       "      <td>1</td>\n",
       "      <td>Audio</td>\n",
       "    </tr>\n",
       "    <tr>\n",
       "      <th>1</th>\n",
       "      <td>2</td>\n",
       "      <td>Contoso 512MB MP3 Player E51 Blue</td>\n",
       "      <td>Contoso</td>\n",
       "      <td>Blue</td>\n",
       "      <td>$6.62</td>\n",
       "      <td>$12.99</td>\n",
       "      <td>101</td>\n",
       "      <td>MP4&amp;MP3</td>\n",
       "      <td>1</td>\n",
       "      <td>Audio</td>\n",
       "    </tr>\n",
       "    <tr>\n",
       "      <th>2</th>\n",
       "      <td>3</td>\n",
       "      <td>Contoso 1G MP3 Player E100 White</td>\n",
       "      <td>Contoso</td>\n",
       "      <td>White</td>\n",
       "      <td>$7.40</td>\n",
       "      <td>$14.52</td>\n",
       "      <td>101</td>\n",
       "      <td>MP4&amp;MP3</td>\n",
       "      <td>1</td>\n",
       "      <td>Audio</td>\n",
       "    </tr>\n",
       "    <tr>\n",
       "      <th>3</th>\n",
       "      <td>4</td>\n",
       "      <td>Contoso 2G MP3 Player E200 Silver</td>\n",
       "      <td>Contoso</td>\n",
       "      <td>Silver</td>\n",
       "      <td>$11.00</td>\n",
       "      <td>$21.57</td>\n",
       "      <td>101</td>\n",
       "      <td>MP4&amp;MP3</td>\n",
       "      <td>1</td>\n",
       "      <td>Audio</td>\n",
       "    </tr>\n",
       "    <tr>\n",
       "      <th>4</th>\n",
       "      <td>5</td>\n",
       "      <td>Contoso 2G MP3 Player E200 Red</td>\n",
       "      <td>Contoso</td>\n",
       "      <td>Red</td>\n",
       "      <td>$11.00</td>\n",
       "      <td>$21.57</td>\n",
       "      <td>101</td>\n",
       "      <td>MP4&amp;MP3</td>\n",
       "      <td>1</td>\n",
       "      <td>Audio</td>\n",
       "    </tr>\n",
       "  </tbody>\n",
       "</table>\n",
       "</div>"
      ],
      "text/plain": [
       "   Product_Key                         Product_Name    Brand   Color  \\\n",
       "0            1  Contoso 512MB MP3 Player E51 Silver  Contoso  Silver   \n",
       "1            2    Contoso 512MB MP3 Player E51 Blue  Contoso    Blue   \n",
       "2            3     Contoso 1G MP3 Player E100 White  Contoso   White   \n",
       "3            4    Contoso 2G MP3 Player E200 Silver  Contoso  Silver   \n",
       "4            5       Contoso 2G MP3 Player E200 Red  Contoso     Red   \n",
       "\n",
       "  Unit_Cost_USD Unit_Price_USD  Sub_category_Key Sub_category  Category_Key  \\\n",
       "0        $6.62         $12.99                101      MP4&MP3             1   \n",
       "1        $6.62         $12.99                101      MP4&MP3             1   \n",
       "2        $7.40         $14.52                101      MP4&MP3             1   \n",
       "3       $11.00         $21.57                101      MP4&MP3             1   \n",
       "4       $11.00         $21.57                101      MP4&MP3             1   \n",
       "\n",
       "  Category  \n",
       "0    Audio  \n",
       "1    Audio  \n",
       "2    Audio  \n",
       "3    Audio  \n",
       "4    Audio  "
      ]
     },
     "execution_count": 67,
     "metadata": {},
     "output_type": "execute_result"
    }
   ],
   "source": [
    "df_products.head()"
   ]
  },
  {
   "cell_type": "code",
   "execution_count": 68,
   "id": "8dd495f2-eba0-4aa0-abd8-ce93659595e8",
   "metadata": {},
   "outputs": [
    {
     "data": {
      "text/plain": [
       "Product_Key          int64\n",
       "Product_Name        object\n",
       "Brand               object\n",
       "Color               object\n",
       "Unit_Cost_USD       object\n",
       "Unit_Price_USD      object\n",
       "Sub_category_Key     int64\n",
       "Sub_category        object\n",
       "Category_Key         int64\n",
       "Category            object\n",
       "dtype: object"
      ]
     },
     "execution_count": 68,
     "metadata": {},
     "output_type": "execute_result"
    }
   ],
   "source": [
    "df_products.dtypes"
   ]
  },
  {
   "cell_type": "code",
   "execution_count": 69,
   "id": "30842be9-3d83-4147-9b6e-4a912b3789b0",
   "metadata": {},
   "outputs": [],
   "source": [
    "df_products.to_csv('products_data.csv', index=False)"
   ]
  },
  {
   "cell_type": "code",
   "execution_count": 70,
   "id": "65763f0a-672f-4059-bd88-e872ba865369",
   "metadata": {},
   "outputs": [],
   "source": [
    "myconnection = pymysql.connect(host='127.0.0.1',user='root',password='root')"
   ]
  },
  {
   "cell_type": "code",
   "execution_count": 71,
   "id": "90f8ae3b-9859-44fe-99eb-206daddaaa37",
   "metadata": {},
   "outputs": [],
   "source": [
    "a=\",\".join(f\"{i} {j}\"\n",
    "for i,j in zip(df_products.columns,df_products.dtypes)).replace(\"float64\",\"float\").replace(\"category\",\"text\").replace(\"int64\",\"int\").replace(\"object\",\"text\")"
   ]
  },
  {
   "cell_type": "code",
   "execution_count": 72,
   "id": "a1d5adc7-853d-473a-947e-37d6bb800c05",
   "metadata": {},
   "outputs": [
    {
     "data": {
      "text/plain": [
       "'create table products_data (Product_Key int,Product_Name text,Brand text,Color text,Unit_Cost_USD text,Unit_Price_USD text,Sub_text_Key int,Sub_text text,Category_Key int,Category text)'"
      ]
     },
     "execution_count": 72,
     "metadata": {},
     "output_type": "execute_result"
    }
   ],
   "source": [
    "f\"create table products_data ({a})\""
   ]
  },
  {
   "cell_type": "code",
   "execution_count": 73,
   "id": "c0b518e5-4442-48ba-a37e-5da1926c17f1",
   "metadata": {},
   "outputs": [
    {
     "data": {
      "text/plain": [
       "0"
      ]
     },
     "execution_count": 73,
     "metadata": {},
     "output_type": "execute_result"
    }
   ],
   "source": [
    "myconnection.cursor().execute(f\"create table data.products_data ({a})\")"
   ]
  },
  {
   "cell_type": "code",
   "execution_count": 74,
   "id": "ab10b097-77ed-4dba-ad2a-9ecb9c49eea5",
   "metadata": {},
   "outputs": [
    {
     "data": {
      "text/plain": [
       "2517"
      ]
     },
     "execution_count": 74,
     "metadata": {},
     "output_type": "execute_result"
    }
   ],
   "source": [
    "len(df_products)"
   ]
  },
  {
   "cell_type": "code",
   "execution_count": 75,
   "id": "7bd4913d-c357-411c-86c9-6544653134ec",
   "metadata": {},
   "outputs": [],
   "source": [
    "sql = \"insert into data.products_data values\"\n",
    "for i in range(len(df_products)):\n",
    "    myconnection.cursor().execute(f\"{sql} {tuple(df_products.iloc[i])}\")\n",
    "    myconnection.commit()"
   ]
  },
  {
   "cell_type": "code",
   "execution_count": 76,
   "id": "1bff3cf9-be29-4c85-9588-200c5d471ddf",
   "metadata": {},
   "outputs": [
    {
     "data": {
      "text/html": [
       "<div>\n",
       "<style scoped>\n",
       "    .dataframe tbody tr th:only-of-type {\n",
       "        vertical-align: middle;\n",
       "    }\n",
       "\n",
       "    .dataframe tbody tr th {\n",
       "        vertical-align: top;\n",
       "    }\n",
       "\n",
       "    .dataframe thead th {\n",
       "        text-align: right;\n",
       "    }\n",
       "</style>\n",
       "<table border=\"1\" class=\"dataframe\">\n",
       "  <thead>\n",
       "    <tr style=\"text-align: right;\">\n",
       "      <th></th>\n",
       "      <th>Product_Key</th>\n",
       "      <th>Product_Name</th>\n",
       "      <th>Brand</th>\n",
       "      <th>Color</th>\n",
       "      <th>Unit_Cost_USD</th>\n",
       "      <th>Unit_Price_USD</th>\n",
       "      <th>Sub_category_Key</th>\n",
       "      <th>Sub_category</th>\n",
       "      <th>Category_Key</th>\n",
       "      <th>Category</th>\n",
       "    </tr>\n",
       "  </thead>\n",
       "  <tbody>\n",
       "    <tr>\n",
       "      <th>0</th>\n",
       "      <td>1</td>\n",
       "      <td>Contoso 512MB MP3 Player E51 Silver</td>\n",
       "      <td>Contoso</td>\n",
       "      <td>Silver</td>\n",
       "      <td>$6.62</td>\n",
       "      <td>$12.99</td>\n",
       "      <td>101</td>\n",
       "      <td>MP4&amp;MP3</td>\n",
       "      <td>1</td>\n",
       "      <td>Audio</td>\n",
       "    </tr>\n",
       "    <tr>\n",
       "      <th>1</th>\n",
       "      <td>2</td>\n",
       "      <td>Contoso 512MB MP3 Player E51 Blue</td>\n",
       "      <td>Contoso</td>\n",
       "      <td>Blue</td>\n",
       "      <td>$6.62</td>\n",
       "      <td>$12.99</td>\n",
       "      <td>101</td>\n",
       "      <td>MP4&amp;MP3</td>\n",
       "      <td>1</td>\n",
       "      <td>Audio</td>\n",
       "    </tr>\n",
       "    <tr>\n",
       "      <th>2</th>\n",
       "      <td>3</td>\n",
       "      <td>Contoso 1G MP3 Player E100 White</td>\n",
       "      <td>Contoso</td>\n",
       "      <td>White</td>\n",
       "      <td>$7.40</td>\n",
       "      <td>$14.52</td>\n",
       "      <td>101</td>\n",
       "      <td>MP4&amp;MP3</td>\n",
       "      <td>1</td>\n",
       "      <td>Audio</td>\n",
       "    </tr>\n",
       "    <tr>\n",
       "      <th>3</th>\n",
       "      <td>4</td>\n",
       "      <td>Contoso 2G MP3 Player E200 Silver</td>\n",
       "      <td>Contoso</td>\n",
       "      <td>Silver</td>\n",
       "      <td>$11.00</td>\n",
       "      <td>$21.57</td>\n",
       "      <td>101</td>\n",
       "      <td>MP4&amp;MP3</td>\n",
       "      <td>1</td>\n",
       "      <td>Audio</td>\n",
       "    </tr>\n",
       "    <tr>\n",
       "      <th>4</th>\n",
       "      <td>5</td>\n",
       "      <td>Contoso 2G MP3 Player E200 Red</td>\n",
       "      <td>Contoso</td>\n",
       "      <td>Red</td>\n",
       "      <td>$11.00</td>\n",
       "      <td>$21.57</td>\n",
       "      <td>101</td>\n",
       "      <td>MP4&amp;MP3</td>\n",
       "      <td>1</td>\n",
       "      <td>Audio</td>\n",
       "    </tr>\n",
       "  </tbody>\n",
       "</table>\n",
       "</div>"
      ],
      "text/plain": [
       "   Product_Key                         Product_Name    Brand   Color  \\\n",
       "0            1  Contoso 512MB MP3 Player E51 Silver  Contoso  Silver   \n",
       "1            2    Contoso 512MB MP3 Player E51 Blue  Contoso    Blue   \n",
       "2            3     Contoso 1G MP3 Player E100 White  Contoso   White   \n",
       "3            4    Contoso 2G MP3 Player E200 Silver  Contoso  Silver   \n",
       "4            5       Contoso 2G MP3 Player E200 Red  Contoso     Red   \n",
       "\n",
       "  Unit_Cost_USD Unit_Price_USD  Sub_category_Key Sub_category  Category_Key  \\\n",
       "0        $6.62         $12.99                101      MP4&MP3             1   \n",
       "1        $6.62         $12.99                101      MP4&MP3             1   \n",
       "2        $7.40         $14.52                101      MP4&MP3             1   \n",
       "3       $11.00         $21.57                101      MP4&MP3             1   \n",
       "4       $11.00         $21.57                101      MP4&MP3             1   \n",
       "\n",
       "  Category  \n",
       "0    Audio  \n",
       "1    Audio  \n",
       "2    Audio  \n",
       "3    Audio  \n",
       "4    Audio  "
      ]
     },
     "execution_count": 76,
     "metadata": {},
     "output_type": "execute_result"
    }
   ],
   "source": [
    "df_products.head()"
   ]
  },
  {
   "cell_type": "code",
   "execution_count": null,
   "id": "369e2fb4-21fd-469b-9598-fb43cdfcaaf0",
   "metadata": {},
   "outputs": [],
   "source": []
  },
  {
   "cell_type": "code",
   "execution_count": null,
   "id": "1040578f-053e-4cbf-b0ac-3f22a6d08997",
   "metadata": {},
   "outputs": [],
   "source": []
  },
  {
   "cell_type": "code",
   "execution_count": null,
   "id": "35dbd30a-9b90-4bef-af68-24da2c641c94",
   "metadata": {},
   "outputs": [],
   "source": [
    "####################################STORES##########################################"
   ]
  },
  {
   "cell_type": "code",
   "execution_count": 77,
   "id": "aa9422d0-3863-441a-a166-081718bc40e1",
   "metadata": {},
   "outputs": [],
   "source": [
    "import pandas as pd"
   ]
  },
  {
   "cell_type": "code",
   "execution_count": 77,
   "id": "81e572fe-fa35-4945-a430-3188c20febc4",
   "metadata": {},
   "outputs": [],
   "source": [
    "df_stores=pd.read_csv(\"C:/Users/Lenovo/Downloads/Stores.csv\",encoding=\"latin-1\")"
   ]
  },
  {
   "cell_type": "code",
   "execution_count": 78,
   "id": "f4a57482-c5f4-4463-90b9-92fc949a574f",
   "metadata": {},
   "outputs": [
    {
     "data": {
      "text/html": [
       "<div>\n",
       "<style scoped>\n",
       "    .dataframe tbody tr th:only-of-type {\n",
       "        vertical-align: middle;\n",
       "    }\n",
       "\n",
       "    .dataframe tbody tr th {\n",
       "        vertical-align: top;\n",
       "    }\n",
       "\n",
       "    .dataframe thead th {\n",
       "        text-align: right;\n",
       "    }\n",
       "</style>\n",
       "<table border=\"1\" class=\"dataframe\">\n",
       "  <thead>\n",
       "    <tr style=\"text-align: right;\">\n",
       "      <th></th>\n",
       "      <th>StoreKey</th>\n",
       "      <th>Country</th>\n",
       "      <th>State</th>\n",
       "      <th>Square Meters</th>\n",
       "      <th>Open Date</th>\n",
       "    </tr>\n",
       "  </thead>\n",
       "  <tbody>\n",
       "    <tr>\n",
       "      <th>0</th>\n",
       "      <td>1</td>\n",
       "      <td>Australia</td>\n",
       "      <td>Australian Capital Territory</td>\n",
       "      <td>595.0</td>\n",
       "      <td>1/1/2008</td>\n",
       "    </tr>\n",
       "    <tr>\n",
       "      <th>1</th>\n",
       "      <td>2</td>\n",
       "      <td>Australia</td>\n",
       "      <td>Northern Territory</td>\n",
       "      <td>665.0</td>\n",
       "      <td>1/12/2008</td>\n",
       "    </tr>\n",
       "    <tr>\n",
       "      <th>2</th>\n",
       "      <td>3</td>\n",
       "      <td>Australia</td>\n",
       "      <td>South Australia</td>\n",
       "      <td>2000.0</td>\n",
       "      <td>1/7/2012</td>\n",
       "    </tr>\n",
       "    <tr>\n",
       "      <th>3</th>\n",
       "      <td>4</td>\n",
       "      <td>Australia</td>\n",
       "      <td>Tasmania</td>\n",
       "      <td>2000.0</td>\n",
       "      <td>1/1/2010</td>\n",
       "    </tr>\n",
       "    <tr>\n",
       "      <th>4</th>\n",
       "      <td>5</td>\n",
       "      <td>Australia</td>\n",
       "      <td>Victoria</td>\n",
       "      <td>2000.0</td>\n",
       "      <td>12/9/2015</td>\n",
       "    </tr>\n",
       "  </tbody>\n",
       "</table>\n",
       "</div>"
      ],
      "text/plain": [
       "   StoreKey    Country                         State  Square Meters  Open Date\n",
       "0         1  Australia  Australian Capital Territory          595.0   1/1/2008\n",
       "1         2  Australia            Northern Territory          665.0  1/12/2008\n",
       "2         3  Australia               South Australia         2000.0   1/7/2012\n",
       "3         4  Australia                      Tasmania         2000.0   1/1/2010\n",
       "4         5  Australia                      Victoria         2000.0  12/9/2015"
      ]
     },
     "execution_count": 78,
     "metadata": {},
     "output_type": "execute_result"
    }
   ],
   "source": [
    "df_stores.head()"
   ]
  },
  {
   "cell_type": "code",
   "execution_count": 79,
   "id": "e371aa0f-34d2-4a79-a491-dc43cd2b8c99",
   "metadata": {},
   "outputs": [
    {
     "data": {
      "text/plain": [
       "StoreKey         0\n",
       "Country          0\n",
       "State            0\n",
       "Square Meters    1\n",
       "Open Date        0\n",
       "dtype: int64"
      ]
     },
     "execution_count": 79,
     "metadata": {},
     "output_type": "execute_result"
    }
   ],
   "source": [
    "df_stores.isnull().sum()"
   ]
  },
  {
   "cell_type": "code",
   "execution_count": 80,
   "id": "809b7a65-17d3-492c-922c-0d7b8345fc36",
   "metadata": {},
   "outputs": [],
   "source": [
    "def null_value_imputer(df_stores):\n",
    "    for i in df_stores.columns:\n",
    "        # Drop columns with 80% or more missing values\n",
    "        if (df_stores[i].isnull().sum() / len(df_stores)) * 100 >= 80:\n",
    "            df_stores.drop(i, axis=1, inplace=True)\n",
    "        # Impute missing values in numeric columns\n",
    "        elif df_stores[i].dtype in ['int64', 'float64']:\n",
    "            # Check the skewness of the column\n",
    "            if -0.4 < df_stores[i].skew() < 0.4:\n",
    "                # If skewness is low, fill missing values with the mean\n",
    "                df_stores[i].fillna(df_stores[i].mean(), inplace=True)\n",
    "            else:\n",
    "                # If skewness is high, fill missing values with the median\n",
    "                df_stores[i].fillna(df_stores[i].median(), inplace=True)\n",
    "        else:\n",
    "            # For categorical columns, fill missing values with the mode\n",
    "            df_stores[i].fillna(df_stores[i].mode()[0], inplace=True)\n",
    "    \n",
    "    # Print the number of null values after imputation\n",
    "    print(\"Null Values after imputation:\\n\", df_stores.isnull().sum())\n",
    "    print(df_stores.isnull().sum())"
   ]
  },
  {
   "cell_type": "code",
   "execution_count": 81,
   "id": "6e108b7a-22d9-4191-bb00-a735f40df4f4",
   "metadata": {},
   "outputs": [
    {
     "name": "stdout",
     "output_type": "stream",
     "text": [
      "Null Values after imputation:\n",
      " StoreKey         0\n",
      "Country          0\n",
      "State            0\n",
      "Square Meters    0\n",
      "Open Date        0\n",
      "dtype: int64\n",
      "StoreKey         0\n",
      "Country          0\n",
      "State            0\n",
      "Square Meters    0\n",
      "Open Date        0\n",
      "dtype: int64\n"
     ]
    }
   ],
   "source": [
    "null_value_imputer(df_stores)"
   ]
  },
  {
   "cell_type": "code",
   "execution_count": 82,
   "id": "0e652b53-0fc9-4d07-91fb-9847da60b0ce",
   "metadata": {},
   "outputs": [
    {
     "data": {
      "text/plain": [
       "0"
      ]
     },
     "execution_count": 82,
     "metadata": {},
     "output_type": "execute_result"
    }
   ],
   "source": [
    "df_stores.duplicated().sum()"
   ]
  },
  {
   "cell_type": "code",
   "execution_count": 83,
   "id": "e87a01d2-8fdc-4c0e-b803-f1cf926c5b2c",
   "metadata": {},
   "outputs": [],
   "source": [
    "df_stores.rename(columns={'StoreKey': 'Store_Key'}, inplace=True)\n",
    "df_stores.rename(columns={'Square Meters': 'Square_Meters'}, inplace=True)\n",
    "df_stores.rename(columns={'Open Date': 'Open_Date'}, inplace=True)"
   ]
  },
  {
   "cell_type": "code",
   "execution_count": 85,
   "id": "25246d56-7cb4-4707-a17b-fa09e7f91fe9",
   "metadata": {},
   "outputs": [
    {
     "data": {
      "text/plain": [
       "Store_Key          int64\n",
       "Country           object\n",
       "State             object\n",
       "Square_Meters    float64\n",
       "Open_Date         object\n",
       "dtype: object"
      ]
     },
     "execution_count": 85,
     "metadata": {},
     "output_type": "execute_result"
    }
   ],
   "source": [
    "df_stores.dtypes"
   ]
  },
  {
   "cell_type": "code",
   "execution_count": 86,
   "id": "12876f12-adb0-4d25-969e-ceea528cf456",
   "metadata": {},
   "outputs": [],
   "source": [
    "df_stores['Open_Date'] = pd.to_datetime(df_stores['Open_Date'], errors='coerce')\n",
    "df_stores['Open_Date'] = df_stores['Open_Date'].dt.strftime('%Y-%m-%d')"
   ]
  },
  {
   "cell_type": "code",
   "execution_count": 87,
   "id": "2e0e5284-085c-4743-89ea-9515c40af338",
   "metadata": {},
   "outputs": [
    {
     "data": {
      "text/html": [
       "<div>\n",
       "<style scoped>\n",
       "    .dataframe tbody tr th:only-of-type {\n",
       "        vertical-align: middle;\n",
       "    }\n",
       "\n",
       "    .dataframe tbody tr th {\n",
       "        vertical-align: top;\n",
       "    }\n",
       "\n",
       "    .dataframe thead th {\n",
       "        text-align: right;\n",
       "    }\n",
       "</style>\n",
       "<table border=\"1\" class=\"dataframe\">\n",
       "  <thead>\n",
       "    <tr style=\"text-align: right;\">\n",
       "      <th></th>\n",
       "      <th>Store_Key</th>\n",
       "      <th>Country</th>\n",
       "      <th>State</th>\n",
       "      <th>Square_Meters</th>\n",
       "      <th>Open_Date</th>\n",
       "    </tr>\n",
       "  </thead>\n",
       "  <tbody>\n",
       "    <tr>\n",
       "      <th>0</th>\n",
       "      <td>1</td>\n",
       "      <td>Australia</td>\n",
       "      <td>Australian Capital Territory</td>\n",
       "      <td>595.0</td>\n",
       "      <td>2008-01-01</td>\n",
       "    </tr>\n",
       "    <tr>\n",
       "      <th>1</th>\n",
       "      <td>2</td>\n",
       "      <td>Australia</td>\n",
       "      <td>Northern Territory</td>\n",
       "      <td>665.0</td>\n",
       "      <td>2008-01-12</td>\n",
       "    </tr>\n",
       "    <tr>\n",
       "      <th>2</th>\n",
       "      <td>3</td>\n",
       "      <td>Australia</td>\n",
       "      <td>South Australia</td>\n",
       "      <td>2000.0</td>\n",
       "      <td>2012-01-07</td>\n",
       "    </tr>\n",
       "    <tr>\n",
       "      <th>3</th>\n",
       "      <td>4</td>\n",
       "      <td>Australia</td>\n",
       "      <td>Tasmania</td>\n",
       "      <td>2000.0</td>\n",
       "      <td>2010-01-01</td>\n",
       "    </tr>\n",
       "    <tr>\n",
       "      <th>4</th>\n",
       "      <td>5</td>\n",
       "      <td>Australia</td>\n",
       "      <td>Victoria</td>\n",
       "      <td>2000.0</td>\n",
       "      <td>2015-12-09</td>\n",
       "    </tr>\n",
       "  </tbody>\n",
       "</table>\n",
       "</div>"
      ],
      "text/plain": [
       "   Store_Key    Country                         State  Square_Meters  \\\n",
       "0          1  Australia  Australian Capital Territory          595.0   \n",
       "1          2  Australia            Northern Territory          665.0   \n",
       "2          3  Australia               South Australia         2000.0   \n",
       "3          4  Australia                      Tasmania         2000.0   \n",
       "4          5  Australia                      Victoria         2000.0   \n",
       "\n",
       "    Open_Date  \n",
       "0  2008-01-01  \n",
       "1  2008-01-12  \n",
       "2  2012-01-07  \n",
       "3  2010-01-01  \n",
       "4  2015-12-09  "
      ]
     },
     "execution_count": 87,
     "metadata": {},
     "output_type": "execute_result"
    }
   ],
   "source": [
    "df_stores.head()"
   ]
  },
  {
   "cell_type": "code",
   "execution_count": 88,
   "id": "a2a57e48-6a21-4c15-b8e6-f85695e2a43c",
   "metadata": {},
   "outputs": [],
   "source": [
    "df_stores.to_csv('stores_data.csv', index=False)"
   ]
  },
  {
   "cell_type": "code",
   "execution_count": 89,
   "id": "cfaee93c-768e-4518-bbc2-48b64a5f3ed0",
   "metadata": {},
   "outputs": [],
   "source": [
    "import pymysql"
   ]
  },
  {
   "cell_type": "code",
   "execution_count": 90,
   "id": "cee26c6a-28c5-472e-918e-12e5b49f4902",
   "metadata": {},
   "outputs": [],
   "source": [
    "myconnection = pymysql.connect(host='127.0.0.1',user='root',password='root')"
   ]
  },
  {
   "cell_type": "code",
   "execution_count": 91,
   "id": "a934940e-118d-4e25-9bec-603f523218d0",
   "metadata": {},
   "outputs": [],
   "source": [
    "a=\",\".join(f\"{i} {j}\"\n",
    "for i,j in zip(df_stores.columns,df_stores.dtypes)).replace(\"float64\",\"float\").replace(\"category\",\"text\").replace(\"int64\",\"int\").replace(\"object\",\"text\")"
   ]
  },
  {
   "cell_type": "code",
   "execution_count": 92,
   "id": "36de25ef-cf01-4258-bc40-58371ac3f596",
   "metadata": {},
   "outputs": [
    {
     "data": {
      "text/plain": [
       "'create table stores_data (Store_Key int,Country text,State text,Square_Meters float,Open_Date text)'"
      ]
     },
     "execution_count": 92,
     "metadata": {},
     "output_type": "execute_result"
    }
   ],
   "source": [
    "f\"create table stores_data ({a})\""
   ]
  },
  {
   "cell_type": "code",
   "execution_count": 93,
   "id": "1a9c8227-d231-4bcb-a905-34145a1ef9da",
   "metadata": {},
   "outputs": [
    {
     "data": {
      "text/plain": [
       "0"
      ]
     },
     "execution_count": 93,
     "metadata": {},
     "output_type": "execute_result"
    }
   ],
   "source": [
    "myconnection.cursor().execute(f\"create table data.stores_data ({a})\")"
   ]
  },
  {
   "cell_type": "code",
   "execution_count": 94,
   "id": "849fabf7-5cc9-4cc4-ae6b-75d117e9d916",
   "metadata": {},
   "outputs": [
    {
     "data": {
      "text/plain": [
       "67"
      ]
     },
     "execution_count": 94,
     "metadata": {},
     "output_type": "execute_result"
    }
   ],
   "source": [
    "len(df_stores)"
   ]
  },
  {
   "cell_type": "code",
   "execution_count": 95,
   "id": "8a15531c-28e9-4bce-9078-a51ace6e910b",
   "metadata": {},
   "outputs": [],
   "source": [
    "sql = \"insert into data.stores_data values\"\n",
    "for i in range(len(df_stores)):\n",
    "    myconnection.cursor().execute(f\"{sql} {tuple(df_stores.iloc[i])}\")\n",
    "    myconnection.commit()"
   ]
  },
  {
   "cell_type": "code",
   "execution_count": 96,
   "id": "2ed16bbc-ba6d-4f46-a8e2-d61bc3d6bd8b",
   "metadata": {},
   "outputs": [
    {
     "data": {
      "text/html": [
       "<div>\n",
       "<style scoped>\n",
       "    .dataframe tbody tr th:only-of-type {\n",
       "        vertical-align: middle;\n",
       "    }\n",
       "\n",
       "    .dataframe tbody tr th {\n",
       "        vertical-align: top;\n",
       "    }\n",
       "\n",
       "    .dataframe thead th {\n",
       "        text-align: right;\n",
       "    }\n",
       "</style>\n",
       "<table border=\"1\" class=\"dataframe\">\n",
       "  <thead>\n",
       "    <tr style=\"text-align: right;\">\n",
       "      <th></th>\n",
       "      <th>Store_Key</th>\n",
       "      <th>Country</th>\n",
       "      <th>State</th>\n",
       "      <th>Square_Meters</th>\n",
       "      <th>Open_Date</th>\n",
       "    </tr>\n",
       "  </thead>\n",
       "  <tbody>\n",
       "    <tr>\n",
       "      <th>0</th>\n",
       "      <td>1</td>\n",
       "      <td>Australia</td>\n",
       "      <td>Australian Capital Territory</td>\n",
       "      <td>595.0</td>\n",
       "      <td>2008-01-01</td>\n",
       "    </tr>\n",
       "    <tr>\n",
       "      <th>1</th>\n",
       "      <td>2</td>\n",
       "      <td>Australia</td>\n",
       "      <td>Northern Territory</td>\n",
       "      <td>665.0</td>\n",
       "      <td>2008-01-12</td>\n",
       "    </tr>\n",
       "    <tr>\n",
       "      <th>2</th>\n",
       "      <td>3</td>\n",
       "      <td>Australia</td>\n",
       "      <td>South Australia</td>\n",
       "      <td>2000.0</td>\n",
       "      <td>2012-01-07</td>\n",
       "    </tr>\n",
       "    <tr>\n",
       "      <th>3</th>\n",
       "      <td>4</td>\n",
       "      <td>Australia</td>\n",
       "      <td>Tasmania</td>\n",
       "      <td>2000.0</td>\n",
       "      <td>2010-01-01</td>\n",
       "    </tr>\n",
       "    <tr>\n",
       "      <th>4</th>\n",
       "      <td>5</td>\n",
       "      <td>Australia</td>\n",
       "      <td>Victoria</td>\n",
       "      <td>2000.0</td>\n",
       "      <td>2015-12-09</td>\n",
       "    </tr>\n",
       "  </tbody>\n",
       "</table>\n",
       "</div>"
      ],
      "text/plain": [
       "   Store_Key    Country                         State  Square_Meters  \\\n",
       "0          1  Australia  Australian Capital Territory          595.0   \n",
       "1          2  Australia            Northern Territory          665.0   \n",
       "2          3  Australia               South Australia         2000.0   \n",
       "3          4  Australia                      Tasmania         2000.0   \n",
       "4          5  Australia                      Victoria         2000.0   \n",
       "\n",
       "    Open_Date  \n",
       "0  2008-01-01  \n",
       "1  2008-01-12  \n",
       "2  2012-01-07  \n",
       "3  2010-01-01  \n",
       "4  2015-12-09  "
      ]
     },
     "execution_count": 96,
     "metadata": {},
     "output_type": "execute_result"
    }
   ],
   "source": [
    "df_stores.head()"
   ]
  },
  {
   "cell_type": "code",
   "execution_count": null,
   "id": "c408f4e6-9b13-4b68-ac5e-6aacb0fc0ec1",
   "metadata": {},
   "outputs": [],
   "source": []
  },
  {
   "cell_type": "code",
   "execution_count": null,
   "id": "e04dc6dc-e905-461c-9d6b-05fdda359901",
   "metadata": {},
   "outputs": [],
   "source": []
  },
  {
   "cell_type": "code",
   "execution_count": null,
   "id": "6c0e1741-42a6-425c-99f6-dbcdd37200ad",
   "metadata": {},
   "outputs": [],
   "source": [
    "#########################################################EXCHANGE_RATES#####################################"
   ]
  },
  {
   "cell_type": "code",
   "execution_count": 97,
   "id": "8352b029-8829-485d-b610-f9a8aede1bbf",
   "metadata": {},
   "outputs": [],
   "source": [
    "import pandas as pd"
   ]
  },
  {
   "cell_type": "code",
   "execution_count": 98,
   "id": "b919e005-f1c9-4726-ac3d-1b0d670c35e2",
   "metadata": {},
   "outputs": [],
   "source": [
    "df_exchange_rates=pd.read_csv(\"C:/Users/Lenovo/Downloads/Exchange_Rates.csv\",encoding=\"latin-1\")"
   ]
  },
  {
   "cell_type": "code",
   "execution_count": 99,
   "id": "6af19909-bdcc-4b94-a791-7704d0ab5eac",
   "metadata": {},
   "outputs": [
    {
     "data": {
      "text/plain": [
       "Date        0\n",
       "Currency    0\n",
       "Exchange    0\n",
       "dtype: int64"
      ]
     },
     "execution_count": 99,
     "metadata": {},
     "output_type": "execute_result"
    }
   ],
   "source": [
    "df_exchange_rates.isnull().sum()"
   ]
  },
  {
   "cell_type": "code",
   "execution_count": 100,
   "id": "cab9b9bd-7491-4588-b392-c4aaaa3c8139",
   "metadata": {},
   "outputs": [],
   "source": [
    "def null_value_imputer(df_exchange_rates):\n",
    "    for i in df_exchange_rates.columns:\n",
    "        # Drop columns with 80% or more missing values\n",
    "        if (df_exchange_rates[i].isnull().sum() / len(df_exchange_rates)) * 100 >= 80:\n",
    "            df_exchange_rates.drop(i, axis=1, inplace=True)\n",
    "        # Impute missing values in numeric columns\n",
    "        elif df_exchange_rates[i].dtype in ['int64', 'float64']:\n",
    "            # Check the skewness of the column\n",
    "            if -0.4 < df_exchange_rates[i].skew() < 0.4:\n",
    "                # If skewness is low, fill missing values with the mean\n",
    "                df_exchange_rates[i].fillna(df_exchange_rates[i].mean(), inplace=True)\n",
    "            else:\n",
    "                # If skewness is high, fill missing values with the median\n",
    "                df_exchange_rates[i].fillna(df_exchange_rates[i].median(), inplace=True)\n",
    "        else:\n",
    "            # For categorical columns, fill missing values with the mode\n",
    "            df_exchange_rates[i].fillna(df_exchange_rates[i].mode()[0], inplace=True)\n",
    "    \n",
    "    # Print the number of null values after imputation\n",
    "    print(\"Null Values after imputation:\\n\", df_exchange_rates.isnull().sum())\n",
    "    print(df_exchange_rates.isnull().sum())\n"
   ]
  },
  {
   "cell_type": "code",
   "execution_count": 101,
   "id": "909493b6-72f0-4746-97e4-77a79a021a18",
   "metadata": {},
   "outputs": [
    {
     "name": "stdout",
     "output_type": "stream",
     "text": [
      "Null Values after imputation:\n",
      " Date        0\n",
      "Currency    0\n",
      "Exchange    0\n",
      "dtype: int64\n",
      "Date        0\n",
      "Currency    0\n",
      "Exchange    0\n",
      "dtype: int64\n"
     ]
    }
   ],
   "source": [
    "null_value_imputer(df_exchange_rates)"
   ]
  },
  {
   "cell_type": "code",
   "execution_count": 102,
   "id": "7857f519-decf-4a53-9dab-9cfaf06c79ca",
   "metadata": {},
   "outputs": [
    {
     "data": {
      "text/plain": [
       "Date         object\n",
       "Currency     object\n",
       "Exchange    float64\n",
       "dtype: object"
      ]
     },
     "execution_count": 102,
     "metadata": {},
     "output_type": "execute_result"
    }
   ],
   "source": [
    "df_exchange_rates.dtypes"
   ]
  },
  {
   "cell_type": "code",
   "execution_count": 103,
   "id": "00a9a398-784c-4839-854a-8aca41f171eb",
   "metadata": {},
   "outputs": [
    {
     "data": {
      "text/html": [
       "<div>\n",
       "<style scoped>\n",
       "    .dataframe tbody tr th:only-of-type {\n",
       "        vertical-align: middle;\n",
       "    }\n",
       "\n",
       "    .dataframe tbody tr th {\n",
       "        vertical-align: top;\n",
       "    }\n",
       "\n",
       "    .dataframe thead th {\n",
       "        text-align: right;\n",
       "    }\n",
       "</style>\n",
       "<table border=\"1\" class=\"dataframe\">\n",
       "  <thead>\n",
       "    <tr style=\"text-align: right;\">\n",
       "      <th></th>\n",
       "      <th>Date</th>\n",
       "      <th>Currency</th>\n",
       "      <th>Exchange</th>\n",
       "    </tr>\n",
       "  </thead>\n",
       "  <tbody>\n",
       "    <tr>\n",
       "      <th>0</th>\n",
       "      <td>1/1/2015</td>\n",
       "      <td>USD</td>\n",
       "      <td>1.0000</td>\n",
       "    </tr>\n",
       "    <tr>\n",
       "      <th>1</th>\n",
       "      <td>1/1/2015</td>\n",
       "      <td>CAD</td>\n",
       "      <td>1.1583</td>\n",
       "    </tr>\n",
       "    <tr>\n",
       "      <th>2</th>\n",
       "      <td>1/1/2015</td>\n",
       "      <td>AUD</td>\n",
       "      <td>1.2214</td>\n",
       "    </tr>\n",
       "    <tr>\n",
       "      <th>3</th>\n",
       "      <td>1/1/2015</td>\n",
       "      <td>EUR</td>\n",
       "      <td>0.8237</td>\n",
       "    </tr>\n",
       "    <tr>\n",
       "      <th>4</th>\n",
       "      <td>1/1/2015</td>\n",
       "      <td>GBP</td>\n",
       "      <td>0.6415</td>\n",
       "    </tr>\n",
       "  </tbody>\n",
       "</table>\n",
       "</div>"
      ],
      "text/plain": [
       "       Date Currency  Exchange\n",
       "0  1/1/2015      USD    1.0000\n",
       "1  1/1/2015      CAD    1.1583\n",
       "2  1/1/2015      AUD    1.2214\n",
       "3  1/1/2015      EUR    0.8237\n",
       "4  1/1/2015      GBP    0.6415"
      ]
     },
     "execution_count": 103,
     "metadata": {},
     "output_type": "execute_result"
    }
   ],
   "source": [
    "df_exchange_rates.head()"
   ]
  },
  {
   "cell_type": "code",
   "execution_count": 104,
   "id": "0ffbf3d8-ae25-46ec-ae63-3a649174082c",
   "metadata": {},
   "outputs": [],
   "source": [
    "df_exchange_rates['Date'] = pd.to_datetime(df_exchange_rates['Date'], errors='coerce')\n",
    "df_exchange_rates['Date'] = df_exchange_rates['Date'].dt.strftime('%Y-%m-%d')"
   ]
  },
  {
   "cell_type": "code",
   "execution_count": 105,
   "id": "2ba29484-9636-440a-8dc7-11d9247352b4",
   "metadata": {},
   "outputs": [
    {
     "data": {
      "text/html": [
       "<div>\n",
       "<style scoped>\n",
       "    .dataframe tbody tr th:only-of-type {\n",
       "        vertical-align: middle;\n",
       "    }\n",
       "\n",
       "    .dataframe tbody tr th {\n",
       "        vertical-align: top;\n",
       "    }\n",
       "\n",
       "    .dataframe thead th {\n",
       "        text-align: right;\n",
       "    }\n",
       "</style>\n",
       "<table border=\"1\" class=\"dataframe\">\n",
       "  <thead>\n",
       "    <tr style=\"text-align: right;\">\n",
       "      <th></th>\n",
       "      <th>Date</th>\n",
       "      <th>Currency</th>\n",
       "      <th>Exchange</th>\n",
       "    </tr>\n",
       "  </thead>\n",
       "  <tbody>\n",
       "    <tr>\n",
       "      <th>0</th>\n",
       "      <td>2015-01-01</td>\n",
       "      <td>USD</td>\n",
       "      <td>1.0000</td>\n",
       "    </tr>\n",
       "    <tr>\n",
       "      <th>1</th>\n",
       "      <td>2015-01-01</td>\n",
       "      <td>CAD</td>\n",
       "      <td>1.1583</td>\n",
       "    </tr>\n",
       "    <tr>\n",
       "      <th>2</th>\n",
       "      <td>2015-01-01</td>\n",
       "      <td>AUD</td>\n",
       "      <td>1.2214</td>\n",
       "    </tr>\n",
       "    <tr>\n",
       "      <th>3</th>\n",
       "      <td>2015-01-01</td>\n",
       "      <td>EUR</td>\n",
       "      <td>0.8237</td>\n",
       "    </tr>\n",
       "    <tr>\n",
       "      <th>4</th>\n",
       "      <td>2015-01-01</td>\n",
       "      <td>GBP</td>\n",
       "      <td>0.6415</td>\n",
       "    </tr>\n",
       "  </tbody>\n",
       "</table>\n",
       "</div>"
      ],
      "text/plain": [
       "         Date Currency  Exchange\n",
       "0  2015-01-01      USD    1.0000\n",
       "1  2015-01-01      CAD    1.1583\n",
       "2  2015-01-01      AUD    1.2214\n",
       "3  2015-01-01      EUR    0.8237\n",
       "4  2015-01-01      GBP    0.6415"
      ]
     },
     "execution_count": 105,
     "metadata": {},
     "output_type": "execute_result"
    }
   ],
   "source": [
    "df_exchange_rates.head()"
   ]
  },
  {
   "cell_type": "code",
   "execution_count": 106,
   "id": "a813a1a1-ed5a-499c-894a-9131e2566e4c",
   "metadata": {},
   "outputs": [],
   "source": [
    "df_exchange_rates.to_csv('exchange_rates_data.csv', index=False)"
   ]
  },
  {
   "cell_type": "code",
   "execution_count": 107,
   "id": "90842495-4aac-49e5-9bc8-af6a3201ed11",
   "metadata": {},
   "outputs": [],
   "source": [
    "import pymysql"
   ]
  },
  {
   "cell_type": "code",
   "execution_count": 108,
   "id": "609e2575-628b-4874-ac89-5b779053e45d",
   "metadata": {},
   "outputs": [],
   "source": [
    "myconnection = pymysql.connect(host='127.0.0.1',user='root',password='root')"
   ]
  },
  {
   "cell_type": "code",
   "execution_count": 109,
   "id": "150333df-cbf4-4d12-8efe-eaddfa18291e",
   "metadata": {},
   "outputs": [],
   "source": [
    "a=\",\".join(f\"{i} {j}\"\n",
    "for i,j in zip(df_exchange_rates.columns,df_exchange_rates.dtypes)).replace(\"float64\",\"float\").replace(\"category\",\"text\").replace(\"int64\",\"int\").replace(\"object\",\"text\")"
   ]
  },
  {
   "cell_type": "code",
   "execution_count": 110,
   "id": "d1152a21-ebbd-46bb-8613-711901b40a93",
   "metadata": {},
   "outputs": [
    {
     "data": {
      "text/plain": [
       "'create table exchange_rates_data (Date text,Currency text,Exchange float)'"
      ]
     },
     "execution_count": 110,
     "metadata": {},
     "output_type": "execute_result"
    }
   ],
   "source": [
    "f\"create table exchange_rates_data ({a})\""
   ]
  },
  {
   "cell_type": "code",
   "execution_count": 111,
   "id": "38b0a223-ffac-4ded-90ae-c95790bf4c95",
   "metadata": {},
   "outputs": [
    {
     "data": {
      "text/plain": [
       "0"
      ]
     },
     "execution_count": 111,
     "metadata": {},
     "output_type": "execute_result"
    }
   ],
   "source": [
    "myconnection.cursor().execute(f\"create table data.exchange_rates_data ({a})\")"
   ]
  },
  {
   "cell_type": "code",
   "execution_count": 112,
   "id": "d345125a-f214-4b68-b149-4c9455d75f05",
   "metadata": {},
   "outputs": [
    {
     "data": {
      "text/plain": [
       "11215"
      ]
     },
     "execution_count": 112,
     "metadata": {},
     "output_type": "execute_result"
    }
   ],
   "source": [
    "len(df_exchange_rates)"
   ]
  },
  {
   "cell_type": "code",
   "execution_count": 113,
   "id": "5c6b373a-9766-453b-8b58-12322972bf18",
   "metadata": {},
   "outputs": [],
   "source": [
    "sql = \"insert into data.exchange_rates_data values\"\n",
    "for i in range(len(df_exchange_rates)):\n",
    "    myconnection.cursor().execute(f\"{sql} {tuple(df_exchange_rates.iloc[i])}\")\n",
    "    myconnection.commit()"
   ]
  },
  {
   "cell_type": "code",
   "execution_count": 114,
   "id": "d4b84349-b2cd-415d-9466-58a18561de12",
   "metadata": {},
   "outputs": [
    {
     "data": {
      "text/html": [
       "<div>\n",
       "<style scoped>\n",
       "    .dataframe tbody tr th:only-of-type {\n",
       "        vertical-align: middle;\n",
       "    }\n",
       "\n",
       "    .dataframe tbody tr th {\n",
       "        vertical-align: top;\n",
       "    }\n",
       "\n",
       "    .dataframe thead th {\n",
       "        text-align: right;\n",
       "    }\n",
       "</style>\n",
       "<table border=\"1\" class=\"dataframe\">\n",
       "  <thead>\n",
       "    <tr style=\"text-align: right;\">\n",
       "      <th></th>\n",
       "      <th>Date</th>\n",
       "      <th>Currency</th>\n",
       "      <th>Exchange</th>\n",
       "    </tr>\n",
       "  </thead>\n",
       "  <tbody>\n",
       "    <tr>\n",
       "      <th>0</th>\n",
       "      <td>2015-01-01</td>\n",
       "      <td>USD</td>\n",
       "      <td>1.0000</td>\n",
       "    </tr>\n",
       "    <tr>\n",
       "      <th>1</th>\n",
       "      <td>2015-01-01</td>\n",
       "      <td>CAD</td>\n",
       "      <td>1.1583</td>\n",
       "    </tr>\n",
       "    <tr>\n",
       "      <th>2</th>\n",
       "      <td>2015-01-01</td>\n",
       "      <td>AUD</td>\n",
       "      <td>1.2214</td>\n",
       "    </tr>\n",
       "    <tr>\n",
       "      <th>3</th>\n",
       "      <td>2015-01-01</td>\n",
       "      <td>EUR</td>\n",
       "      <td>0.8237</td>\n",
       "    </tr>\n",
       "    <tr>\n",
       "      <th>4</th>\n",
       "      <td>2015-01-01</td>\n",
       "      <td>GBP</td>\n",
       "      <td>0.6415</td>\n",
       "    </tr>\n",
       "  </tbody>\n",
       "</table>\n",
       "</div>"
      ],
      "text/plain": [
       "         Date Currency  Exchange\n",
       "0  2015-01-01      USD    1.0000\n",
       "1  2015-01-01      CAD    1.1583\n",
       "2  2015-01-01      AUD    1.2214\n",
       "3  2015-01-01      EUR    0.8237\n",
       "4  2015-01-01      GBP    0.6415"
      ]
     },
     "execution_count": 114,
     "metadata": {},
     "output_type": "execute_result"
    }
   ],
   "source": [
    "df_exchange_rates.head()"
   ]
  },
  {
   "cell_type": "code",
   "execution_count": null,
   "id": "1cf0ace5-bb92-4404-a287-9ca07667ffcc",
   "metadata": {},
   "outputs": [],
   "source": []
  }
 ],
 "metadata": {
  "kernelspec": {
   "display_name": "Python 3 (ipykernel)",
   "language": "python",
   "name": "python3"
  },
  "language_info": {
   "codemirror_mode": {
    "name": "ipython",
    "version": 3
   },
   "file_extension": ".py",
   "mimetype": "text/x-python",
   "name": "python",
   "nbconvert_exporter": "python",
   "pygments_lexer": "ipython3",
   "version": "3.11.7"
  }
 },
 "nbformat": 4,
 "nbformat_minor": 5
}
